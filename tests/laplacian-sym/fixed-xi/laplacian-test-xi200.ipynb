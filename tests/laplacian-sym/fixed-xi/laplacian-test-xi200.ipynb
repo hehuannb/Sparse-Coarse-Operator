{
 "cells": [
  {
   "cell_type": "code",
   "execution_count": 1,
   "metadata": {
    "scrolled": false
   },
   "outputs": [
    {
     "name": "stdout",
     "output_type": "stream",
     "text": [
      "/local/scratch/kchan76/sparse-coarse-operator/tests/laplacian/fixed-xi\n"
     ]
    },
    {
     "name": "stderr",
     "output_type": "stream",
     "text": [
      "/local/scratch/kchan76/sparse-stencil-learning/src/pyamg2/lib/python3.8/site-packages/tqdm/auto.py:22: TqdmWarning: IProgress not found. Please update jupyter and ipywidgets. See https://ipywidgets.readthedocs.io/en/stable/user_install.html\n",
      "  from .autonotebook import tqdm as notebook_tqdm\n"
     ]
    },
    {
     "name": "stdout",
     "output_type": "stream",
     "text": [
      "device: cuda:1\n"
     ]
    }
   ],
   "source": [
    "import os\n",
    "print(os.getcwd())\n",
    "import sys\n",
    "sys.path.append('/local/scratch/kchan76/sparse-coarse-operator/')\n",
    "from libs.pde import *\n",
    "from libs.rotated_laplacian import RotatedLaplacian\n",
    "from libs.models import BasicNet, MultiHeadedAttention\n",
    "import torch\n",
    "\n",
    "device = torch.device('cuda:1' if torch.cuda.is_available() else 'cpu')\n",
    "print('device:', device)"
   ]
  },
  {
   "cell_type": "markdown",
   "metadata": {},
   "source": [
    "# 3-Level Attention "
   ]
  },
  {
   "cell_type": "code",
   "execution_count": 48,
   "metadata": {},
   "outputs": [],
   "source": [
    "list_eps = [1/200]\n",
    "low_pi = 3\n",
    "high_pi = 4\n",
    "theta_low = np.pi/12*low_pi\n",
    "theta_high = np.pi/12*high_pi\n",
    "npts = 5\n",
    "list_theta = np.linspace(theta_low, theta_high, npts)"
   ]
  },
  {
   "cell_type": "code",
   "execution_count": 49,
   "metadata": {},
   "outputs": [],
   "source": [
    "train_grid_size = 31\n",
    "k2 = 20\n",
    "k3 = 5\n",
    "same_vecs = False\n",
    "PDE = RotatedLaplacian(train_grid_size,[k2,k3],list_eps, list_theta,'fixed xi',same_vecs=same_vecs)"
   ]
  },
  {
   "cell_type": "code",
   "execution_count": 50,
   "metadata": {},
   "outputs": [
    {
     "name": "stdout",
     "output_type": "stream",
     "text": [
      "seed: 4\n",
      " epoch:  0  loss:  tensor(16.6179, device='cuda:1', dtype=torch.float64, grad_fn=<AddBackward0>)\n",
      " epoch:  250  loss:  tensor(0.0390, device='cuda:1', dtype=torch.float64, grad_fn=<AddBackward0>)\n",
      " epoch:  500  loss:  tensor(0.0312, device='cuda:1', dtype=torch.float64, grad_fn=<AddBackward0>)\n",
      " epoch:  750  loss:  tensor(0.0411, device='cuda:1', dtype=torch.float64, grad_fn=<AddBackward0>)\n",
      " epoch:  1000  loss:  tensor(0.0294, device='cuda:1', dtype=torch.float64, grad_fn=<AddBackward0>)\n",
      " epoch:  1249  loss:  tensor(0.0350, device='cuda:1', dtype=torch.float64, grad_fn=<AddBackward0>)\n"
     ]
    }
   ],
   "source": [
    "# LEVEL 2\n",
    "seed = 4\n",
    "print('seed:', seed)\n",
    "set_global_seed(seed)\n",
    "h = 8\n",
    "dhid = 256\n",
    "epochs = 1250\n",
    "adam_decay_rate = 0 # adam weight decay\n",
    "lr = 1e-4 # learning rate\n",
    "lr_decay_rate = 1 # learning rate decay\n",
    "lr_decay_step = 700 # learning rate decay step size\n",
    "init = 'xavier uniform' # \"<name> <distribution>\" name={'xavier', 'kaiming'} distribution={'uniform', 'normal'}\n",
    "\n",
    "ncopy = 1\n",
    "single_model = False # KEEP IT FALSE!! if true, only model_prob will be learned\n",
    "softmax_topk = False\n",
    "dropout = 0.8\n",
    "enforce_stencil_symmetry = 'x'\n",
    "model_prob_l2 = MultiHeadedAttention(h ,dhid, ncopy=ncopy, init=init, dropout=dropout)\n",
    "model_value_l2 = MultiHeadedAttention(h, dhid, ncopy=ncopy, init=init, dropout=dropout)\n",
    "\n",
    "\n",
    "model_prob_l2,model_value_l2 = PDE.train(PDE.A2_train, \n",
    "                                         PDE.s2_train,\n",
    "                                         PDE.eig_vec2_train,\n",
    "                                         model_prob_l2,\n",
    "                                         model_value_l2,\n",
    "                                         epochs,\n",
    "                                         adam_decay_rate,\n",
    "                                         lr,\n",
    "                                         lr_decay_rate,\n",
    "                                         lr_decay_step,\n",
    "                                         device,\n",
    "                                         single_model=single_model,\n",
    "                                         softmax_on = softmax_topk,\n",
    "                                         enforce_stencil_symmetry = enforce_stencil_symmetry,\n",
    "                                         verbose = True)\n",
    "\n",
    "\n"
   ]
  },
  {
   "cell_type": "code",
   "execution_count": 24,
   "metadata": {},
   "outputs": [
    {
     "name": "stdout",
     "output_type": "stream",
     "text": [
      "test seed: 64\n",
      "size: 511\n",
      "standard stencil iter:    11.3   standard stencil time:   1.9951786041259765\n",
      "learned stencil iter:    97.7   learned stencil time:   12.905337762832641\n"
     ]
    }
   ],
   "source": [
    "# test level-2 model\n",
    "test_seed = 64\n",
    "# while True:\n",
    "# test_seed = test_seed + 1\n",
    "set_global_seed(test_seed)\n",
    "# sizes = [63,127,255,511]\n",
    "sizes = [511]\n",
    "print('test seed:', test_seed)\n",
    "num_test = 10\n",
    "models = {}\n",
    "models['level2'] = model_prob_l2, model_value_l2\n",
    "test_grid_size = 63\n",
    "max_levels = 2\n",
    "epsilon = tuple(list_eps)\n",
    "theta = (theta_low, theta_high)\n",
    "random_test = True\n",
    "accel = 'gmres'\n",
    "dropout_on = False\n",
    "enforce_stencil_symmetry = 'x'\n",
    "\n",
    "\n",
    "for test_grid_size in sizes:\n",
    "    print('size:', test_grid_size)\n",
    "    num_iter_standard, num_iter_learning, thetaList, xs, xl = PDE.test_model(num_test,\n",
    "                                                                    models,\n",
    "                                                                    test_grid_size,\n",
    "                                                                    max_levels,\n",
    "                                                                    epsilon,\n",
    "                                                                    theta,\n",
    "                                                                    device,\n",
    "                                                                    random_test=random_test,\n",
    "                                                                    single_model=single_model,\n",
    "                                                                    softmax_on = softmax_topk,\n",
    "                                                                    enforce_stencil_symmetry = enforce_stencil_symmetry,\n",
    "                                                                    dropout_on=dropout_on,\n",
    "                                                                    top_accel = accel,\n",
    "                                                                    verbose = True)\n",
    "#     criterion = np.greater(num_iter_standard, num_iter_learning)\n",
    "#     if not np.any(~criterion):\n",
    "#     if np.mean(num_iter_learning)-np.mean(num_iter_standard) < 1:\n",
    "#         seedlist.append(test_seed)\n",
    "#         print(seedlist)\n",
    "#     break\n"
   ]
  },
  {
   "cell_type": "code",
   "execution_count": 101,
   "metadata": {},
   "outputs": [
    {
     "name": "stdout",
     "output_type": "stream",
     "text": [
      "[20, 22, 22, 21, 21, 20, 20, 20, 22, 21]\n",
      "[28, 31, 31, 29, 30, 30, 29, 31, 30, 29]\n"
     ]
    }
   ],
   "source": [
    "print(num_iter_standard)\n",
    "print(num_iter_learning)\n",
    "# print(thetaList)"
   ]
  },
  {
   "cell_type": "code",
   "execution_count": 27,
   "metadata": {},
   "outputs": [
    {
     "data": {
      "text/plain": [
       "285.9"
      ]
     },
     "execution_count": 27,
     "metadata": {},
     "output_type": "execute_result"
    }
   ],
   "source": [
    "np.mean(num_iter_learning)"
   ]
  },
  {
   "cell_type": "markdown",
   "metadata": {},
   "source": [
    "## Level 3"
   ]
  },
  {
   "cell_type": "code",
   "execution_count": 51,
   "metadata": {},
   "outputs": [
    {
     "name": "stdout",
     "output_type": "stream",
     "text": [
      "seed: 62\n",
      " epoch:  0  loss:  tensor(0.9383, device='cuda:1', dtype=torch.float64, grad_fn=<AddBackward0>)\n",
      " epoch:  250  loss:  tensor(0.0012, device='cuda:1', dtype=torch.float64, grad_fn=<AddBackward0>)\n",
      " epoch:  500  loss:  tensor(0.0033, device='cuda:1', dtype=torch.float64, grad_fn=<AddBackward0>)\n",
      " epoch:  750  loss:  tensor(0.0020, device='cuda:1', dtype=torch.float64, grad_fn=<AddBackward0>)\n",
      " epoch:  999  loss:  tensor(0.0013, device='cuda:1', dtype=torch.float64, grad_fn=<AddBackward0>)\n"
     ]
    }
   ],
   "source": [
    "# LEVEL 3\n",
    "l3_seed = 62\n",
    "print('seed:', l3_seed)\n",
    "set_global_seed(l3_seed)\n",
    "h3 = 8\n",
    "dhid3 = 256\n",
    "epochs3 = 1000\n",
    "adam_decay_rate3 = 0 # adam weight decay\n",
    "lr3 = 1e-4 # learning rate\n",
    "lr_decay_rate3 = 1 # learning rate decay\n",
    "lr_decay_step3 = 500 # learning rate decay step size\n",
    "init3 = 'xavier uniform' \n",
    "\n",
    "ncopy3 = 1\n",
    "single_model3 = False\n",
    "softmax_topk3 = True\n",
    "dropout3 = 0.8\n",
    "enforce_stencil_symmetry = 'x'\n",
    "\n",
    "model_prob_l3 = MultiHeadedAttention(h3 ,dhid3, ncopy=ncopy3, init=init3, dropout=dropout3)\n",
    "model_value_l3 = MultiHeadedAttention(h3, dhid3, ncopy=ncopy3, init=init3, dropout=dropout3)\n",
    "\n",
    "model_prob_l3,model_value_l3 = PDE.train(PDE.A3_train, \n",
    "                                         PDE.s3_train,\n",
    "                                         PDE.eig_vec3_train,\n",
    "                                         model_prob_l3,\n",
    "                                         model_value_l3,\n",
    "                                         epochs3,\n",
    "                                         adam_decay_rate3,\n",
    "                                         lr3,\n",
    "                                         lr_decay_rate3,\n",
    "                                         lr_decay_step3,\n",
    "                                         device,\n",
    "                                         single_model= single_model3,\n",
    "                                         softmax_on = softmax_topk3,\n",
    "                                         enforce_stencil_symmetry = enforce_stencil_symmetry,\n",
    "                                         verbose = True)"
   ]
  },
  {
   "cell_type": "code",
   "execution_count": 52,
   "metadata": {},
   "outputs": [],
   "source": [
    "# import os\n",
    "# MODEL_DIR = f\"./models/laplacian/fixed-xi/xi-{int(1/list_eps[0])}/theta-{low_pi}pi\\\\12-{high_pi}pi\\\\12/\"\n",
    "# if not os.path.isdir(MODEL_DIR):\n",
    "#     os.makedirs(MODEL_DIR)\n",
    "# torch.save(model_prob_l2, MODEL_DIR+\"level2_prob.pt\")\n",
    "# torch.save(model_value_l2, MODEL_DIR+\"level2_value.pt\")\n",
    "# torch.save(model_prob_l3, MODEL_DIR+\"level3_prob.pt\")\n",
    "# torch.save(model_value_l3, MODEL_DIR+\"level3_value.pt\")"
   ]
  },
  {
   "cell_type": "code",
   "execution_count": 53,
   "metadata": {},
   "outputs": [],
   "source": [
    "# MODEL_DIR = f\"./models/laplacian/fixed-xi/xi-{int(1/list_eps[0])}/theta-{low_pi}pi\\\\12-{high_pi}pi\\\\12/\"\n",
    "# model_prob_l2=torch.load(MODEL_DIR+\"level2_prob.pt\")\n",
    "# model_value_l2=torch.load(MODEL_DIR+\"level2_value.pt\")\n",
    "# model_prob_l3=torch.load(MODEL_DIR+\"level3_prob.pt\")\n",
    "# model_value_l3 = torch.load(MODEL_DIR+\"level3_value.pt\")"
   ]
  },
  {
   "cell_type": "code",
   "execution_count": 54,
   "metadata": {},
   "outputs": [
    {
     "name": "stdout",
     "output_type": "stream",
     "text": [
      "test seed: 64\n",
      "size:  511\n",
      "standard stencil iter:    14.9   standard stencil time:   1.0320589542388916\n",
      "learned stencil iter:    35.6   learned stencil time:   2.929522490501404\n"
     ]
    }
   ],
   "source": [
    "test_seed = 64\n",
    "# while True:\n",
    "#     test_seed = test_seed + 1\n",
    "set_global_seed(test_seed)\n",
    "print('test seed:', test_seed)\n",
    "num_test = 10\n",
    "models = {}\n",
    "models['level2'] = model_prob_l2, model_value_l2\n",
    "models['level3'] = model_prob_l3, model_value_l3\n",
    "test_grid_size = 95\n",
    "random_test = True\n",
    "# sizes = [63,95,127,191,255,383,511]\n",
    "sizes = [511]\n",
    "accel = \"gmres\"\n",
    "dropout_on = False\n",
    "enforce_stencil_symmetry = 'x'\n",
    "\n",
    "for test_grid_size in sizes:\n",
    "    print('size: ',test_grid_size)\n",
    "    set_global_seed(test_seed)\n",
    "    max_levels = 3\n",
    "    epsilon = tuple(list_eps)\n",
    "    theta = (theta_low, theta_high)\n",
    "\n",
    "    num_iter_standard, num_iter_learning, ThetaList,_, _ = PDE.test_model(num_test,\n",
    "                                                                models,\n",
    "                                                                test_grid_size,\n",
    "                                                                max_levels,\n",
    "                                                                epsilon,\n",
    "                                                                theta,\n",
    "                                                                device,\n",
    "                                                                top_accel = accel,\n",
    "                                                                random_test = random_test,\n",
    "                                                                single_model=single_model,\n",
    "                                                                softmax_on = softmax_topk,\n",
    "                                                                enforce_stencil_symmetry = enforce_stencil_symmetry,\n",
    "                                                                dropout_on=dropout_on,\n",
    "                                                                verbose = True)"
   ]
  },
  {
   "cell_type": "code",
   "execution_count": 40,
   "metadata": {},
   "outputs": [
    {
     "name": "stdout",
     "output_type": "stream",
     "text": [
      "[16, 15, 16, 16, 16, 16, 16, 16, 16, 16]\n",
      "[28, 51, 29, 39, 39, 43, 35, 28, 34, 30]\n"
     ]
    }
   ],
   "source": [
    "print(num_iter_standard)\n",
    "print(num_iter_learning)"
   ]
  },
  {
   "cell_type": "markdown",
   "metadata": {},
   "source": [
    "# MLP"
   ]
  },
  {
   "cell_type": "code",
   "execution_count": 72,
   "metadata": {},
   "outputs": [],
   "source": [
    "# define problem\n",
    "list_eps = [0.01]\n",
    "theta_low = np.pi/6\n",
    "theta_high = np.pi/4\n",
    "list_theta = np.linspace(theta_low, theta_high, 10)"
   ]
  },
  {
   "cell_type": "code",
   "execution_count": 74,
   "metadata": {
    "scrolled": true
   },
   "outputs": [
    {
     "name": "stdout",
     "output_type": "stream",
     "text": [
      "seed: 36\n",
      " epoch:  0  loss:  tensor(6.7295, device='cuda:0', grad_fn=<AddBackward0>)\n",
      " epoch:  250  loss:  tensor(0.0111, device='cuda:0', grad_fn=<AddBackward0>)\n",
      " epoch:  500  loss:  tensor(0.0104, device='cuda:0', grad_fn=<AddBackward0>)\n",
      " epoch:  750  loss:  tensor(0.0101, device='cuda:0', grad_fn=<AddBackward0>)\n",
      " epoch:  1000  loss:  tensor(0.0098, device='cuda:0', grad_fn=<AddBackward0>)\n",
      " epoch:  1250  loss:  tensor(0.0096, device='cuda:0', grad_fn=<AddBackward0>)\n",
      " epoch:  1500  loss:  tensor(0.0095, device='cuda:0', grad_fn=<AddBackward0>)\n",
      " epoch:  1750  loss:  tensor(0.0094, device='cuda:0', grad_fn=<AddBackward0>)\n",
      " epoch:  1999  loss:  tensor(0.0093, device='cuda:0', grad_fn=<AddBackward0>)\n"
     ]
    }
   ],
   "source": [
    "# seed += 1\n",
    "print('seed:',seed)\n",
    "set_global_seed(seed)\n",
    "epochs = 2000\n",
    "adam_decay_rate = 0 # adam weight decay\n",
    "lr = 1e-3 # learning rate\n",
    "lr_decay_rate = 0.5 # learning rate decay\n",
    "lr_decay_step = 500 # learning rate decay step size\n",
    "model_prob_l2 = BasicNet([64])\n",
    "model_value_l2 = BasicNet([64])\n",
    "k2 = 10\n",
    "k3 = 15\n",
    "same_vecs = False\n",
    "single_model = False # if true, only model_prob will be learned. \n",
    "softmax_on = True # if true, turn on the softmax in the function top_k during sparsfication\n",
    "problem = RotatedLaplacian(31,[k2,k3],list_eps, list_theta,'fixed xi',same_vecs=same_vecs)\n",
    "\n",
    "model_prob_l2,model_value_l2 = problem.train(problem.A2_train, \n",
    "                                             problem.s2_train,\n",
    "                                             problem.eig_vec2_train,\n",
    "                                             model_prob_l2,\n",
    "                                             model_value_l2,\n",
    "                                             epochs,\n",
    "                                             adam_decay_rate,\n",
    "                                             lr,\n",
    "                                             lr_decay_rate,\n",
    "                                             lr_decay_step,\n",
    "                                             device,\n",
    "                                             single_model=single_model,\n",
    "                                             softmax_on = softmax_on,\n",
    "                                             verbose = True)"
   ]
  },
  {
   "cell_type": "code",
   "execution_count": null,
   "metadata": {},
   "outputs": [],
   "source": []
  }
 ],
 "metadata": {
  "colab": {
   "collapsed_sections": [],
   "name": "Copy of Thesis Diffusion.ipynb",
   "provenance": []
  },
  "interpreter": {
   "hash": "31f2aee4e71d21fbe5cf8b01ff0e069b9275f58929596ceb00d14d90e3e16cd6"
  },
  "kernelspec": {
   "display_name": "Python 3 (ipykernel)",
   "language": "python",
   "name": "python3"
  },
  "language_info": {
   "codemirror_mode": {
    "name": "ipython",
    "version": 3
   },
   "file_extension": ".py",
   "mimetype": "text/x-python",
   "name": "python",
   "nbconvert_exporter": "python",
   "pygments_lexer": "ipython3",
   "version": "3.8.10"
  },
  "nteract": {
   "version": "0.28.0"
  }
 },
 "nbformat": 4,
 "nbformat_minor": 4
}
