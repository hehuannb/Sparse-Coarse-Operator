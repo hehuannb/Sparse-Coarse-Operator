{
 "cells": [
  {
   "cell_type": "code",
   "execution_count": 1,
   "metadata": {
    "scrolled": false
   },
   "outputs": [
    {
     "name": "stdout",
     "output_type": "stream",
     "text": [
      "/local/scratch/kchan76/sparse-coarse-operator/tests/laplacian/fixed-xi\n"
     ]
    },
    {
     "name": "stderr",
     "output_type": "stream",
     "text": [
      "/local/scratch/kchan76/sparse-stencil-learning/src/pyamg2/lib/python3.8/site-packages/tqdm/auto.py:22: TqdmWarning: IProgress not found. Please update jupyter and ipywidgets. See https://ipywidgets.readthedocs.io/en/stable/user_install.html\n",
      "  from .autonotebook import tqdm as notebook_tqdm\n"
     ]
    },
    {
     "name": "stdout",
     "output_type": "stream",
     "text": [
      "device: cuda:2\n"
     ]
    }
   ],
   "source": [
    "import os\n",
    "print(os.getcwd())\n",
    "import sys\n",
    "sys.path.append('/local/scratch/kchan76/sparse-coarse-operator/')\n",
    "from libs.pde import *\n",
    "from libs.rotated_laplacian import RotatedLaplacian\n",
    "from libs.models import BasicNet, MultiHeadedAttention\n",
    "import torch\n",
    "\n",
    "device = torch.device('cuda:2' if torch.cuda.is_available() else 'cpu')\n",
    "print('device:', device)"
   ]
  },
  {
   "cell_type": "markdown",
   "metadata": {},
   "source": [
    "# 3-Level Attention "
   ]
  },
  {
   "cell_type": "code",
   "execution_count": 2,
   "metadata": {},
   "outputs": [],
   "source": [
    "# seed = 63\n",
    "list_eps = [1/400]\n",
    "low_pi = 3\n",
    "high_pi = 4\n",
    "theta_low = np.pi/12*low_pi\n",
    "theta_high = np.pi/12*high_pi\n",
    "npts = 5\n",
    "list_theta = np.linspace(theta_low, theta_high, npts)"
   ]
  },
  {
   "cell_type": "code",
   "execution_count": 3,
   "metadata": {},
   "outputs": [],
   "source": [
    "train_grid_size = 31\n",
    "k2 = 20\n",
    "k3 = 15\n",
    "same_vecs = False\n",
    "PDE = RotatedLaplacian(train_grid_size,[k2,k3],list_eps, list_theta,'fixed xi',same_vecs=same_vecs)"
   ]
  },
  {
   "cell_type": "code",
   "execution_count": 4,
   "metadata": {},
   "outputs": [
    {
     "name": "stdout",
     "output_type": "stream",
     "text": [
      "seed: 4\n",
      " epoch:  0  loss:  tensor(0.4531, device='cuda:2', dtype=torch.float64, grad_fn=<AddBackward0>)\n",
      " epoch:  250  loss:  tensor(0.0135, device='cuda:2', dtype=torch.float64, grad_fn=<AddBackward0>)\n",
      " epoch:  500  loss:  tensor(0.0129, device='cuda:2', dtype=torch.float64, grad_fn=<AddBackward0>)\n",
      " epoch:  750  loss:  tensor(0.0143, device='cuda:2', dtype=torch.float64, grad_fn=<AddBackward0>)\n",
      " epoch:  1000  loss:  tensor(0.0134, device='cuda:2', dtype=torch.float64, grad_fn=<AddBackward0>)\n",
      " epoch:  1250  loss:  tensor(0.0139, device='cuda:2', dtype=torch.float64, grad_fn=<AddBackward0>)\n",
      " epoch:  1499  loss:  tensor(0.0128, device='cuda:2', dtype=torch.float64, grad_fn=<AddBackward0>)\n"
     ]
    }
   ],
   "source": [
    "# LEVEL 2\n",
    "seed = 4\n",
    "print('seed:', seed)\n",
    "set_global_seed(seed)\n",
    "h = 8\n",
    "dhid = 256\n",
    "epochs = 1500\n",
    "adam_decay_rate = 0 # adam weight decay\n",
    "lr = 1e-3 # learning rate\n",
    "lr_decay_rate = 1 # learning rate decay\n",
    "lr_decay_step = 1000 # learning rate decay step size\n",
    "init = 'xavier uniform' # \"<name> <distribution>\" name={'xavier', 'kaiming'} distribution={'uniform', 'normal'}\n",
    "\n",
    "ncopy = 1\n",
    "single_model = False # KEEP IT FALSE!! if true, only model_prob will be learned\n",
    "softmax_topk = True\n",
    "dropout = 0.3\n",
    "\n",
    "\n",
    "model_prob_l2 = MultiHeadedAttention(h ,dhid, ncopy=ncopy, init=init, dropout=dropout)\n",
    "model_value_l2 = MultiHeadedAttention(h, dhid, ncopy=ncopy, init=init, dropout=dropout)\n",
    "\n",
    "\n",
    "model_prob_l2,model_value_l2 = PDE.train(PDE.A2_train, \n",
    "                                         PDE.s2_train,\n",
    "                                         PDE.eig_vec2_train,\n",
    "                                         model_prob_l2,\n",
    "                                         model_value_l2,\n",
    "                                         epochs,\n",
    "                                         adam_decay_rate,\n",
    "                                         lr,\n",
    "                                         lr_decay_rate,\n",
    "                                         lr_decay_step,\n",
    "                                         device,\n",
    "                                         single_model=single_model,\n",
    "                                         softmax_on = softmax_topk,\n",
    "                                         verbose = True)\n",
    "\n",
    "\n"
   ]
  },
  {
   "cell_type": "markdown",
   "metadata": {},
   "source": [
    "## Level 3"
   ]
  },
  {
   "cell_type": "code",
   "execution_count": 5,
   "metadata": {},
   "outputs": [
    {
     "name": "stdout",
     "output_type": "stream",
     "text": [
      "seed: 62\n",
      " epoch:  0  loss:  tensor(0.3596, device='cuda:2', dtype=torch.float64, grad_fn=<AddBackward0>)\n",
      " epoch:  250  loss:  tensor(0.0690, device='cuda:2', dtype=torch.float64, grad_fn=<AddBackward0>)\n",
      " epoch:  500  loss:  tensor(0.0384, device='cuda:2', dtype=torch.float64, grad_fn=<AddBackward0>)\n",
      " epoch:  750  loss:  tensor(0.0245, device='cuda:2', dtype=torch.float64, grad_fn=<AddBackward0>)\n",
      " epoch:  1000  loss:  tensor(0.0082, device='cuda:2', dtype=torch.float64, grad_fn=<AddBackward0>)\n",
      " epoch:  1250  loss:  tensor(0.0063, device='cuda:2', dtype=torch.float64, grad_fn=<AddBackward0>)\n",
      " epoch:  1499  loss:  tensor(0.0049, device='cuda:2', dtype=torch.float64, grad_fn=<AddBackward0>)\n"
     ]
    }
   ],
   "source": [
    "# LEVEL 3\n",
    "l3_seed = 62\n",
    "print('seed:', l3_seed)\n",
    "set_global_seed(l3_seed)\n",
    "h3 = 8\n",
    "dhid3 = 256\n",
    "epochs3 = 1500\n",
    "adam_decay_rate3 = 0 # adam weight decay\n",
    "lr3 = 1e-5 # learning rate\n",
    "lr_decay_rate3 = 1 # learning rate decay\n",
    "lr_decay_step3 = 500 # learning rate decay step size\n",
    "init3 = 'xavier uniform' \n",
    "\n",
    "ncopy3 = 1\n",
    "single_model3 = False\n",
    "softmax_topk3 = True\n",
    "dropout3 = 0.5\n",
    "\n",
    "\n",
    "model_prob_l3 = MultiHeadedAttention(h3 ,dhid3, ncopy=ncopy3, init=init3, dropout=dropout3)\n",
    "model_value_l3 = MultiHeadedAttention(h3, dhid3, ncopy=ncopy3, init=init3, dropout=dropout3)\n",
    "\n",
    "model_prob_l3,model_value_l3 = PDE.train(PDE.A3_train, \n",
    "                                         PDE.s3_train,\n",
    "                                         PDE.eig_vec3_train,\n",
    "                                         model_prob_l3,\n",
    "                                         model_value_l3,\n",
    "                                         epochs3,\n",
    "                                         adam_decay_rate3,\n",
    "                                         lr3,\n",
    "                                         lr_decay_rate3,\n",
    "                                         lr_decay_step3,\n",
    "                                         device,\n",
    "                                         single_model= single_model3,\n",
    "                                         softmax_on = softmax_topk3,\n",
    "                                         verbose = True)"
   ]
  },
  {
   "cell_type": "code",
   "execution_count": 7,
   "metadata": {},
   "outputs": [
    {
     "name": "stdout",
     "output_type": "stream",
     "text": [
      "test seed: 1\n",
      "size: 1023\n",
      "standard stencil iter:    15.1   standard stencil time:   30.958961272239684\n",
      "learned stencil iter:    37.9   learned stencil time:   49.60637426376343\n"
     ]
    }
   ],
   "source": [
    "test_seed = 1\n",
    "# seed_list_127 =[]\n",
    "# for test_seed in range(100):\n",
    "set_global_seed(test_seed)\n",
    "print('test seed:', test_seed)\n",
    "sizes = [1023]\n",
    "num_test = 10\n",
    "models = {}\n",
    "models['level2'] = model_prob_l2, model_value_l2\n",
    "models['level3'] = model_prob_l3, model_value_l3\n",
    "test_grid_size = 127\n",
    "max_levels = 3\n",
    "epsilon = tuple(list_eps)\n",
    "theta = (theta_low, theta_high)\n",
    "random_test = True\n",
    "dropout_on = False\n",
    "accel = 'gmres'\n",
    "# accel = None\n",
    "\n",
    "\n",
    "for test_grid_size in sizes:\n",
    "    print('size:',test_grid_size)\n",
    "    set_global_seed(test_seed)\n",
    "    num_iter_standard, num_iter_learning, thetaList, _, _ = PDE.test_model(num_test,\n",
    "                                                            models,\n",
    "                                                            test_grid_size,\n",
    "                                                            max_levels,\n",
    "                                                            epsilon,\n",
    "                                                            theta,\n",
    "                                                            device,\n",
    "                                                            top_accel = accel,\n",
    "                                                            dropout_on=dropout_on,\n",
    "                                                            random_test=random_test,\n",
    "                                                            single_model=single_model,\n",
    "                                                            softmax_on = softmax_topk,\n",
    "                                                            verbose = True)\n",
    "#     if np.mean(num_iter_learning) < np.mean(num_iter_standard):\n",
    "#         seed_list_127.append(test_seed)\n",
    "#         print(\"seed list:\", seed_list_127)"
   ]
  },
  {
   "cell_type": "code",
   "execution_count": 70,
   "metadata": {},
   "outputs": [
    {
     "name": "stdout",
     "output_type": "stream",
     "text": [
      "[104, 95, 92, 112, 109, 90, 103, 110, 103, 110]\n",
      "[423, 414, 419, 576, 468, 424, 425, 464, 421, 497]\n"
     ]
    }
   ],
   "source": [
    "print(num_iter_standard)\n",
    "print(num_iter_learning)"
   ]
  },
  {
   "cell_type": "code",
   "execution_count": 8,
   "metadata": {},
   "outputs": [
    {
     "name": "stdout",
     "output_type": "stream",
     "text": [
      "Sat Dec  3 18:04:18 2022       \n",
      "+-----------------------------------------------------------------------------+\n",
      "| NVIDIA-SMI 460.67       Driver Version: 460.67       CUDA Version: 11.2     |\n",
      "|-------------------------------+----------------------+----------------------+\n",
      "| GPU  Name        Persistence-M| Bus-Id        Disp.A | Volatile Uncorr. ECC |\n",
      "| Fan  Temp  Perf  Pwr:Usage/Cap|         Memory-Usage | GPU-Util  Compute M. |\n",
      "|                               |                      |               MIG M. |\n",
      "|===============================+======================+======================|\n",
      "|   0  RTX A6000           Off  | 00000000:1B:00.0 Off |                  Off |\n",
      "| 30%   36C    P8    27W / 300W |   1676MiB / 48685MiB |      0%      Default |\n",
      "|                               |                      |                  N/A |\n",
      "+-------------------------------+----------------------+----------------------+\n",
      "|   1  RTX A6000           Off  | 00000000:1C:00.0 Off |                  Off |\n",
      "| 30%   35C    P8    30W / 300W |   8663MiB / 48685MiB |      0%      Default |\n",
      "|                               |                      |                  N/A |\n",
      "+-------------------------------+----------------------+----------------------+\n",
      "|   2  RTX A6000           Off  | 00000000:1D:00.0 Off |                  Off |\n",
      "| 30%   38C    P8    23W / 300W |   8663MiB / 48685MiB |      0%      Default |\n",
      "|                               |                      |                  N/A |\n",
      "+-------------------------------+----------------------+----------------------+\n",
      "|   3  RTX A6000           Off  | 00000000:1E:00.0 Off |                  Off |\n",
      "| 30%   38C    P8    25W / 300W |      8MiB / 48685MiB |      0%      Default |\n",
      "|                               |                      |                  N/A |\n",
      "+-------------------------------+----------------------+----------------------+\n",
      "                                                                               \n",
      "+-----------------------------------------------------------------------------+\n",
      "| Processes:                                                                  |\n",
      "|  GPU   GI   CI        PID   Type   Process name                  GPU Memory |\n",
      "|        ID   ID                                                   Usage      |\n",
      "|=============================================================================|\n",
      "|    0   N/A  N/A      4263      G   /usr/lib/xorg/Xorg                  9MiB |\n",
      "|    0   N/A  N/A      4374      G   /usr/bin/gnome-shell                4MiB |\n",
      "|    0   N/A  N/A   3028705      C   ...h/szhao89/venv/bin/python     1657MiB |\n",
      "|    1   N/A  N/A      4263      G   /usr/lib/xorg/Xorg                  4MiB |\n",
      "|    1   N/A  N/A     80573      C   ...ing/src/pyamg2/bin/python     1731MiB |\n",
      "|    1   N/A  N/A     80576      C   ...ing/src/pyamg2/bin/python     1731MiB |\n",
      "|    1   N/A  N/A     89596      C   ...ing/src/pyamg2/bin/python     1731MiB |\n",
      "|    1   N/A  N/A     95734      C   ...ing/src/pyamg2/bin/python     1731MiB |\n",
      "|    1   N/A  N/A     97494      C   ...ing/src/pyamg2/bin/python     1731MiB |\n",
      "|    2   N/A  N/A      4263      G   /usr/lib/xorg/Xorg                  4MiB |\n",
      "|    2   N/A  N/A     80615      C   ...ing/src/pyamg2/bin/python     1731MiB |\n",
      "|    2   N/A  N/A    100399      C   ...ing/src/pyamg2/bin/python     1731MiB |\n",
      "|    2   N/A  N/A    100413      C   ...ing/src/pyamg2/bin/python     1731MiB |\n",
      "|    2   N/A  N/A    105774      C   ...ing/src/pyamg2/bin/python     1731MiB |\n",
      "|    2   N/A  N/A    105776      C   ...ing/src/pyamg2/bin/python     1731MiB |\n",
      "|    3   N/A  N/A      4263      G   /usr/lib/xorg/Xorg                  4MiB |\n",
      "+-----------------------------------------------------------------------------+\n"
     ]
    }
   ],
   "source": [
    "!nvidia-smi"
   ]
  }
 ],
 "metadata": {
  "colab": {
   "collapsed_sections": [],
   "name": "Copy of Thesis Diffusion.ipynb",
   "provenance": []
  },
  "interpreter": {
   "hash": "aee8b7b246df8f9039afb4144a1f6fd8d2ca17a180786b69acc140d282b71a49"
  },
  "kernelspec": {
   "display_name": "Python 3 (ipykernel)",
   "language": "python",
   "name": "python3"
  },
  "language_info": {
   "codemirror_mode": {
    "name": "ipython",
    "version": 3
   },
   "file_extension": ".py",
   "mimetype": "text/x-python",
   "name": "python",
   "nbconvert_exporter": "python",
   "pygments_lexer": "ipython3",
   "version": "3.8.10"
  },
  "nteract": {
   "version": "0.28.0"
  }
 },
 "nbformat": 4,
 "nbformat_minor": 4
}
