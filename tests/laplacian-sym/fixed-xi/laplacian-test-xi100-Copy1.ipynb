{
 "cells": [
  {
   "cell_type": "code",
   "execution_count": 1,
   "metadata": {
    "scrolled": false
   },
   "outputs": [
    {
     "name": "stdout",
     "output_type": "stream",
     "text": [
      "/local/scratch/kchan76\n"
     ]
    },
    {
     "name": "stderr",
     "output_type": "stream",
     "text": [
      "/local/scratch/kchan76/sparse-stencil-learning/src/pyamg2/lib/python3.8/site-packages/tqdm/auto.py:22: TqdmWarning: IProgress not found. Please update jupyter and ipywidgets. See https://ipywidgets.readthedocs.io/en/stable/user_install.html\n",
      "  from .autonotebook import tqdm as notebook_tqdm\n"
     ]
    },
    {
     "name": "stdout",
     "output_type": "stream",
     "text": [
      "device: cuda:2\n"
     ]
    }
   ],
   "source": [
    "import os\n",
    "print(os.getcwd())\n",
    "import sys\n",
    "sys.path.append('/local/scratch/kchan76/sparse-coarse-operator/')\n",
    "from libs.pde import *\n",
    "from libs.rotated_laplacian import RotatedLaplacian\n",
    "from libs.models import BasicNet, MultiHeadedAttention\n",
    "import torch\n",
    "\n",
    "device = torch.device('cuda:2' if torch.cuda.is_available() else 'cpu')\n",
    "print('device:', device)"
   ]
  },
  {
   "cell_type": "markdown",
   "metadata": {},
   "source": [
    "# 3-Level Attention "
   ]
  },
  {
   "cell_type": "code",
   "execution_count": 2,
   "metadata": {},
   "outputs": [],
   "source": [
    "# seed = 63\n",
    "list_eps = [1/100]\n",
    "low_pi = 2\n",
    "high_pi = 3\n",
    "theta_low = np.pi/12*low_pi\n",
    "theta_high = np.pi/12*high_pi\n",
    "npts = 5\n",
    "list_theta = np.linspace(theta_low, theta_high, npts)"
   ]
  },
  {
   "cell_type": "code",
   "execution_count": 3,
   "metadata": {},
   "outputs": [],
   "source": [
    "train_grid_size = 31\n",
    "k2 = 10\n",
    "k3 = 10\n",
    "same_vecs = False\n",
    "PDE = RotatedLaplacian(train_grid_size,[k2,k3],list_eps, list_theta,'fixed xi',same_vecs=same_vecs)"
   ]
  },
  {
   "cell_type": "code",
   "execution_count": 4,
   "metadata": {},
   "outputs": [
    {
     "name": "stdout",
     "output_type": "stream",
     "text": [
      "torch.Size([1, 8])\n",
      "torch.Size([1, 8])\n",
      "tensor([[-0.0052,  0.0008, -0.0142, -0.0278,  0.0121, -0.0490, -0.0057, -0.0018]],\n",
      "       device='cuda:2', dtype=torch.float64, grad_fn=<MeanBackward1>)\n"
     ]
    },
    {
     "ename": "TypeError",
     "evalue": "unsupported operand type(s) for +: 'Identity' and 'Tensor'",
     "output_type": "error",
     "traceback": [
      "\u001b[0;31m---------------------------------------------------------------------------\u001b[0m",
      "\u001b[0;31mTypeError\u001b[0m                                 Traceback (most recent call last)",
      "Cell \u001b[0;32mIn [4], line 25\u001b[0m\n\u001b[1;32m     19\u001b[0m model_prob_l2 \u001b[38;5;241m=\u001b[39m MultiHeadedAttention(h, dhid, ncopy\u001b[38;5;241m=\u001b[39mncopy, init\u001b[38;5;241m=\u001b[39minit, dropout\u001b[38;5;241m=\u001b[39mdropout)\n\u001b[1;32m     20\u001b[0m model_value_l2 \u001b[38;5;241m=\u001b[39m MultiHeadedAttention(h ,dhid, enforce_symmetry \u001b[38;5;241m=\u001b[39m enforce_stencil_symmetry,\n\u001b[1;32m     21\u001b[0m                                      ncopy\u001b[38;5;241m=\u001b[39mncopy, init\u001b[38;5;241m=\u001b[39minit, dropout\u001b[38;5;241m=\u001b[39mdropout)\n\u001b[0;32m---> 25\u001b[0m model_prob_l2,model_value_l2 \u001b[38;5;241m=\u001b[39m \u001b[43mPDE\u001b[49m\u001b[38;5;241;43m.\u001b[39;49m\u001b[43mtrain\u001b[49m\u001b[43m(\u001b[49m\u001b[43mPDE\u001b[49m\u001b[38;5;241;43m.\u001b[39;49m\u001b[43mA2_train\u001b[49m\u001b[43m,\u001b[49m\u001b[43m \u001b[49m\n\u001b[1;32m     26\u001b[0m \u001b[43m                                         \u001b[49m\u001b[43mPDE\u001b[49m\u001b[38;5;241;43m.\u001b[39;49m\u001b[43ms2_train\u001b[49m\u001b[43m,\u001b[49m\n\u001b[1;32m     27\u001b[0m \u001b[43m                                         \u001b[49m\u001b[43mPDE\u001b[49m\u001b[38;5;241;43m.\u001b[39;49m\u001b[43meig_vec2_train\u001b[49m\u001b[43m,\u001b[49m\n\u001b[1;32m     28\u001b[0m \u001b[43m                                         \u001b[49m\u001b[43mmodel_prob_l2\u001b[49m\u001b[43m,\u001b[49m\n\u001b[1;32m     29\u001b[0m \u001b[43m                                         \u001b[49m\u001b[43mmodel_value_l2\u001b[49m\u001b[43m,\u001b[49m\n\u001b[1;32m     30\u001b[0m \u001b[43m                                         \u001b[49m\u001b[43mepochs\u001b[49m\u001b[43m,\u001b[49m\n\u001b[1;32m     31\u001b[0m \u001b[43m                                         \u001b[49m\u001b[43madam_decay_rate\u001b[49m\u001b[43m,\u001b[49m\n\u001b[1;32m     32\u001b[0m \u001b[43m                                         \u001b[49m\u001b[43mlr\u001b[49m\u001b[43m,\u001b[49m\n\u001b[1;32m     33\u001b[0m \u001b[43m                                         \u001b[49m\u001b[43mlr_decay_rate\u001b[49m\u001b[43m,\u001b[49m\n\u001b[1;32m     34\u001b[0m \u001b[43m                                         \u001b[49m\u001b[43mlr_decay_step\u001b[49m\u001b[43m,\u001b[49m\n\u001b[1;32m     35\u001b[0m \u001b[43m                                         \u001b[49m\u001b[43mdevice\u001b[49m\u001b[43m,\u001b[49m\n\u001b[1;32m     36\u001b[0m \u001b[43m                                         \u001b[49m\u001b[43msingle_model\u001b[49m\u001b[38;5;241;43m=\u001b[39;49m\u001b[43msingle_model\u001b[49m\u001b[43m,\u001b[49m\n\u001b[1;32m     37\u001b[0m \u001b[43m                                         \u001b[49m\u001b[43msoftmax_on\u001b[49m\u001b[43m \u001b[49m\u001b[38;5;241;43m=\u001b[39;49m\u001b[43m \u001b[49m\u001b[43msoftmax_topk\u001b[49m\u001b[43m,\u001b[49m\n\u001b[1;32m     38\u001b[0m \u001b[43m                                         \u001b[49m\u001b[43mverbose\u001b[49m\u001b[43m \u001b[49m\u001b[38;5;241;43m=\u001b[39;49m\u001b[43m \u001b[49m\u001b[38;5;28;43;01mTrue\u001b[39;49;00m\u001b[43m)\u001b[49m\n",
      "File \u001b[0;32m/local/scratch/kchan76/sparse-coarse-operator/libs/rotated_laplacian.py:144\u001b[0m, in \u001b[0;36mRotatedLaplacian.train\u001b[0;34m(self, A_train, s_train, eig_vec_train, model_prob, model_value, epochs, adam_decay_rate, lr, lr_decay_rate, lr_decay_step, device, enforce_stencil_symmetry, single_model, softmax_on, verbose)\u001b[0m\n\u001b[1;32m    142\u001b[0m                 stencil \u001b[38;5;241m=\u001b[39m torch\u001b[38;5;241m.\u001b[39mcat([stencil[\u001b[38;5;241m0\u001b[39m:\u001b[38;5;241m4\u001b[39m],stencil[\u001b[38;5;241m5\u001b[39m:\u001b[38;5;241m9\u001b[39m]])\u001b[38;5;241m.\u001b[39mt()\u001b[38;5;241m.\u001b[39mto(device)\u001b[38;5;241m.\u001b[39mdouble()\n\u001b[1;32m    143\u001b[0m                 prob \u001b[38;5;241m=\u001b[39m model_prob(stencil)\u001b[38;5;241m.\u001b[39msqueeze()\n\u001b[0;32m--> 144\u001b[0m                 value \u001b[38;5;241m=\u001b[39m \u001b[43mmodel_value\u001b[49m\u001b[43m(\u001b[49m\u001b[43mstencil\u001b[49m\u001b[43m)\u001b[49m\u001b[38;5;241m.\u001b[39msqueeze()\n\u001b[1;32m    145\u001b[0m \u001b[38;5;66;03m#                 print(value)\u001b[39;00m\n\u001b[1;32m    146\u001b[0m \u001b[38;5;66;03m#                 print(value.size(0))\u001b[39;00m\n\u001b[1;32m    147\u001b[0m \u001b[38;5;66;03m#                 assert value.size(0) == 1\u001b[39;00m\n\u001b[1;32m    148\u001b[0m \n\u001b[1;32m    149\u001b[0m                 \u001b[38;5;66;03m# sparsify stencil\u001b[39;00m\n\u001b[1;32m    150\u001b[0m                 coarse_stencil\u001b[38;5;241m=\u001b[39m \u001b[38;5;28mself\u001b[39m\u001b[38;5;241m.\u001b[39msparsify(prob,value,single_model,softmax_on,enforce_stencil_symmetry)\n",
      "File \u001b[0;32m/local/scratch/kchan76/sparse-stencil-learning/src/pyamg2/lib/python3.8/site-packages/torch/nn/modules/module.py:1051\u001b[0m, in \u001b[0;36mModule._call_impl\u001b[0;34m(self, *input, **kwargs)\u001b[0m\n\u001b[1;32m   1047\u001b[0m \u001b[38;5;66;03m# If we don't have any hooks, we want to skip the rest of the logic in\u001b[39;00m\n\u001b[1;32m   1048\u001b[0m \u001b[38;5;66;03m# this function, and just call forward.\u001b[39;00m\n\u001b[1;32m   1049\u001b[0m \u001b[38;5;28;01mif\u001b[39;00m \u001b[38;5;129;01mnot\u001b[39;00m (\u001b[38;5;28mself\u001b[39m\u001b[38;5;241m.\u001b[39m_backward_hooks \u001b[38;5;129;01mor\u001b[39;00m \u001b[38;5;28mself\u001b[39m\u001b[38;5;241m.\u001b[39m_forward_hooks \u001b[38;5;129;01mor\u001b[39;00m \u001b[38;5;28mself\u001b[39m\u001b[38;5;241m.\u001b[39m_forward_pre_hooks \u001b[38;5;129;01mor\u001b[39;00m _global_backward_hooks\n\u001b[1;32m   1050\u001b[0m         \u001b[38;5;129;01mor\u001b[39;00m _global_forward_hooks \u001b[38;5;129;01mor\u001b[39;00m _global_forward_pre_hooks):\n\u001b[0;32m-> 1051\u001b[0m     \u001b[38;5;28;01mreturn\u001b[39;00m \u001b[43mforward_call\u001b[49m\u001b[43m(\u001b[49m\u001b[38;5;241;43m*\u001b[39;49m\u001b[38;5;28;43minput\u001b[39;49m\u001b[43m,\u001b[49m\u001b[43m \u001b[49m\u001b[38;5;241;43m*\u001b[39;49m\u001b[38;5;241;43m*\u001b[39;49m\u001b[43mkwargs\u001b[49m\u001b[43m)\u001b[49m\n\u001b[1;32m   1052\u001b[0m \u001b[38;5;66;03m# Do not call functions when jit is used\u001b[39;00m\n\u001b[1;32m   1053\u001b[0m full_backward_hooks, non_full_backward_hooks \u001b[38;5;241m=\u001b[39m [], []\n",
      "File \u001b[0;32m/local/scratch/kchan76/sparse-coarse-operator/libs/models.py:136\u001b[0m, in \u001b[0;36mMultiHeadedAttention.forward\u001b[0;34m(self, x, mask)\u001b[0m\n\u001b[1;32m    134\u001b[0m \u001b[38;5;28mprint\u001b[39m(x)\n\u001b[1;32m    135\u001b[0m resx \u001b[38;5;241m=\u001b[39m \u001b[38;5;28mself\u001b[39m\u001b[38;5;241m.\u001b[39mID(x)\n\u001b[0;32m--> 136\u001b[0m x \u001b[38;5;241m=\u001b[39m \u001b[43mresx\u001b[49m\u001b[43m \u001b[49m\u001b[38;5;241;43m+\u001b[39;49m\u001b[43m \u001b[49m\u001b[43mtorch\u001b[49m\u001b[38;5;241;43m.\u001b[39;49m\u001b[43mflip\u001b[49m\u001b[43m(\u001b[49m\u001b[43mx\u001b[49m\u001b[43m,\u001b[49m\u001b[43m[\u001b[49m\u001b[38;5;241;43m0\u001b[39;49m\u001b[43m]\u001b[49m\u001b[43m)\u001b[49m\n\u001b[1;32m    137\u001b[0m \u001b[38;5;28mprint\u001b[39m(x)\n\u001b[1;32m    138\u001b[0m \u001b[38;5;28;01massert\u001b[39;00m \u001b[38;5;241m0\u001b[39m\u001b[38;5;241m==\u001b[39m\u001b[38;5;241m1\u001b[39m\n",
      "\u001b[0;31mTypeError\u001b[0m: unsupported operand type(s) for +: 'Identity' and 'Tensor'"
     ]
    }
   ],
   "source": [
    "# LEVEL 2\n",
    "seed=63\n",
    "set_global_seed(seed)\n",
    "h = 8\n",
    "dhid = 256\n",
    "epochs = 1000\n",
    "adam_decay_rate = 0 # adam weight decay\n",
    "lr = 1e-4 # learning rate\n",
    "lr_decay_rate = 1 # learning rate decay\n",
    "lr_decay_step = 250 # learning rate decay step size\n",
    "init = 'xavier uniform'\n",
    "\n",
    "ncopy = 1\n",
    "single_model = False # KEEP IT FALSE!! if true, only model_prob will be learned\n",
    "softmax_topk = True\n",
    "dropout = 0.3\n",
    "enforce_stencil_symmetry = '+'\n",
    "\n",
    "model_prob_l2 = MultiHeadedAttention(h, dhid, ncopy=ncopy, init=init, dropout=dropout)\n",
    "model_value_l2 = MultiHeadedAttention(h ,dhid, ncopy=ncopy, init=init, dropout=dropout)\n",
    "\n",
    "\n",
    "\n",
    "model_prob_l2,model_value_l2 = PDE.train(PDE.A2_train, \n",
    "                                         PDE.s2_train,\n",
    "                                         PDE.eig_vec2_train,\n",
    "                                         model_prob_l2,\n",
    "                                         model_value_l2,\n",
    "                                         epochs,\n",
    "                                         adam_decay_rate,\n",
    "                                         lr,\n",
    "                                         lr_decay_rate,\n",
    "                                         lr_decay_step,\n",
    "                                         device,\n",
    "                                         single_model=single_model,\n",
    "                                         softmax_on = softmax_topk,\n",
    "                                         verbose = True)\n",
    "\n",
    "\n"
   ]
  },
  {
   "cell_type": "code",
   "execution_count": 62,
   "metadata": {},
   "outputs": [
    {
     "name": "stdout",
     "output_type": "stream",
     "text": [
      "test seed: 14\n",
      "standard stencil iter:    64.8   standard stencil time:   4.3478402376174925\n",
      "learned stencil iter:    62.2   learned stencil time:   3.220900321006775\n"
     ]
    }
   ],
   "source": [
    "# test level-2 model\n",
    "test_seed = 14\n",
    "# for test_seed in range(50):\n",
    "set_global_seed(test_seed)\n",
    "print('test seed:', test_seed)\n",
    "num_test = 10\n",
    "models = {}\n",
    "models['level2'] = model_prob_l2, model_value_l2\n",
    "test_grid_size = 255\n",
    "max_levels = 2\n",
    "epsilon = tuple(list_eps)\n",
    "theta = (theta_low, theta_high)\n",
    "accel = None\n",
    "\n",
    "num_iter_standard, num_iter_learning, thetaList, xs, xl = PDE.test_model(num_test,\n",
    "                                                            models,\n",
    "                                                            test_grid_size,\n",
    "                                                            max_levels,\n",
    "                                                            epsilon,\n",
    "                                                            theta,\n",
    "                                                            device,\n",
    "                                                            random_test = True,\n",
    "                                                            single_model=single_model,\n",
    "                                                            softmax_on = softmax_topk,\n",
    "                                                            top_accel = accel,\n",
    "                                                            verbose = True)"
   ]
  },
  {
   "cell_type": "code",
   "execution_count": 189,
   "metadata": {},
   "outputs": [
    {
     "name": "stdout",
     "output_type": "stream",
     "text": [
      "[245, 74, 133, 81, 58, 110, 118, 246, 186, 118]\n",
      "[245, 75, 133, 83, 72, 118, 118, 246, 187, 182]\n"
     ]
    }
   ],
   "source": [
    "print(num_iter_standard)\n",
    "print(num_iter_learning)"
   ]
  },
  {
   "cell_type": "code",
   "execution_count": 83,
   "metadata": {},
   "outputs": [
    {
     "name": "stdout",
     "output_type": "stream",
     "text": [
      "[2.1936428642673165, 2.242861055382838, 2.250320857584587, 2.2121678867095524, 2.214042612893607, 2.175985142843968, 2.17642663172932, 2.1715891287701963, 2.23335100780533, 2.1981257850804647]\n"
     ]
    }
   ],
   "source": [
    "print(thetaList)"
   ]
  },
  {
   "cell_type": "code",
   "execution_count": 171,
   "metadata": {},
   "outputs": [
    {
     "name": "stdout",
     "output_type": "stream",
     "text": [
      "[12.73647927 15.03831676 15.30868081 ... 14.9365858  14.07809416\n",
      " 12.38552599]\n"
     ]
    }
   ],
   "source": [
    "print(xl)"
   ]
  },
  {
   "cell_type": "markdown",
   "metadata": {},
   "source": [
    "## Level 3"
   ]
  },
  {
   "cell_type": "code",
   "execution_count": 5,
   "metadata": {},
   "outputs": [
    {
     "name": "stdout",
     "output_type": "stream",
     "text": [
      " epoch:  0  loss:  tensor(0.1176, device='cuda:2', dtype=torch.float64, grad_fn=<AddBackward0>)\n",
      " epoch:  250  loss:  tensor(0.0022, device='cuda:2', dtype=torch.float64, grad_fn=<AddBackward0>)\n",
      " epoch:  500  loss:  tensor(0.0014, device='cuda:2', dtype=torch.float64, grad_fn=<AddBackward0>)\n",
      " epoch:  750  loss:  tensor(0.0015, device='cuda:2', dtype=torch.float64, grad_fn=<AddBackward0>)\n",
      " epoch:  999  loss:  tensor(0.0013, device='cuda:2', dtype=torch.float64, grad_fn=<AddBackward0>)\n"
     ]
    }
   ],
   "source": [
    "# LEVEL 3\n",
    "l3_seed = 62\n",
    "set_global_seed(l3_seed)\n",
    "h3 = 8\n",
    "dhid3 = 256\n",
    "epochs3 = 1000\n",
    "adam_decay_rate3 = 0 # adam weight decay\n",
    "lr3 = 1e-4 # learning rate\n",
    "lr_decay_rate3 = 1 # learning rate decay\n",
    "lr_decay_step3 = 500 # learning rate decay step size\n",
    "init3 = 'xavier uniform' \n",
    "\n",
    "ncopy3 = 1\n",
    "single_model3 = False\n",
    "softmax_topk3 = True\n",
    "dropout3 = 0.3\n",
    "\n",
    "\n",
    "\n",
    "model_prob_l3 = MultiHeadedAttention(h3 ,dhid3, ncopy=ncopy3, init=init3, dropout=dropout3)\n",
    "model_value_l3 = MultiHeadedAttention(h3, dhid3, ncopy=ncopy3, init=init3, dropout=dropout3)\n",
    "\n",
    "model_prob_l3,model_value_l3 = PDE.train(PDE.A3_train, \n",
    "                                         PDE.s3_train,\n",
    "                                         PDE.eig_vec3_train,\n",
    "                                         model_prob_l3,\n",
    "                                         model_value_l3,\n",
    "                                         epochs3,\n",
    "                                         adam_decay_rate3,\n",
    "                                         lr3,\n",
    "                                         lr_decay_rate3,\n",
    "                                         lr_decay_step3,\n",
    "                                         device,\n",
    "                                         single_model= single_model3,\n",
    "                                         softmax_on = softmax_topk3,\n",
    "                                         verbose = True)"
   ]
  },
  {
   "cell_type": "code",
   "execution_count": 43,
   "metadata": {},
   "outputs": [],
   "source": [
    "# MODEL_DIR = f\"./models/laplacian/fixed-xi/xi-{int(1/list_eps[0])}/theta-{low_pi}pi\\\\12-{high_pi}pi\\\\12/\""
   ]
  },
  {
   "cell_type": "code",
   "execution_count": 17,
   "metadata": {},
   "outputs": [],
   "source": [
    "MODEL_DIR = f\"./models/laplacian/fixed-xi/xi-{int(1/list_eps[0])}/theta-{low_pi}pi\\\\12-{high_pi}pi\\\\12/\"\n",
    "if not os.path.isdir(MODEL_DIR):\n",
    "    os.makedirs(MODEL_DIR)\n",
    "torch.save(model_prob_l2, MODEL_DIR+\"level2_prob.pt\")\n",
    "torch.save(model_value_l2, MODEL_DIR+\"level2_value.pt\")\n",
    "torch.save(model_prob_l3, MODEL_DIR+\"level3_prob.pt\")\n",
    "torch.save(model_value_l3, MODEL_DIR+\"level3_value.pt\")"
   ]
  },
  {
   "cell_type": "code",
   "execution_count": 31,
   "metadata": {},
   "outputs": [],
   "source": [
    "MODEL_DIR = f\"./models/laplacian/fixed-xi/xi-{int(1/list_eps[0])}/theta-{low_pi}pi\\\\12-{high_pi}pi\\\\12/\"\n",
    "model_prob_l2=torch.load(MODEL_DIR+\"level2_prob.pt\")\n",
    "model_value_l2=torch.load(MODEL_DIR+\"level2_value.pt\")\n",
    "model_prob_l3=torch.load(MODEL_DIR+\"level3_prob.pt\")\n",
    "model_value_l3 = torch.load(MODEL_DIR+\"level3_value.pt\")"
   ]
  },
  {
   "cell_type": "code",
   "execution_count": 6,
   "metadata": {},
   "outputs": [
    {
     "name": "stdout",
     "output_type": "stream",
     "text": [
      "test seed: 65\n",
      "size: 63\n",
      "standard stencil iter:    77.6   standard stencil time:   0.1264270544052124\n",
      "learned stencil iter:    67.0   learned stencil time:   0.23896803855895996\n",
      "size: 127\n",
      "standard stencil iter:    86.7   standard stencil time:   0.8738681077957153\n",
      "learned stencil iter:    78.6   learned stencil time:   0.9884437084197998\n",
      "size: 255\n",
      "standard stencil iter:    90.5   standard stencil time:   2.1650845289230345\n",
      "learned stencil iter:    86.0   learned stencil time:   2.766158628463745\n",
      "size: 511\n",
      "standard stencil iter:    92.1   standard stencil time:   11.1967777967453\n",
      "learned stencil iter:    89.0   learned stencil time:   12.574031662940978\n"
     ]
    }
   ],
   "source": [
    "test_seed = 65\n",
    "# seed_list_127 =[]\n",
    "# for test_seed in range(100):\n",
    "set_global_seed(test_seed)\n",
    "print('test seed:', test_seed)\n",
    "sizes = [63,127,255,511]\n",
    "num_test = 10\n",
    "models = {}\n",
    "models['level2'] = model_prob_l2, model_value_l2\n",
    "models['level3'] = model_prob_l3, model_value_l3\n",
    "test_grid_size = 127\n",
    "max_levels = 3\n",
    "epsilon = tuple(list_eps)\n",
    "theta = (theta_low, theta_high)\n",
    "random_test = True\n",
    "\n",
    "for test_grid_size in sizes:\n",
    "    print('size:',test_grid_size)\n",
    "    set_global_seed(test_seed)\n",
    "    num_iter_standard, num_iter_learning, thetaList, _, _ = PDE.test_model(num_test,\n",
    "                                                            models,\n",
    "                                                            test_grid_size,\n",
    "                                                            max_levels,\n",
    "                                                            epsilon,\n",
    "                                                            theta,\n",
    "                                                            device,\n",
    "                                                            random_test=random_test,\n",
    "                                                            single_model=single_model,\n",
    "                                                            softmax_on = softmax_topk,\n",
    "                                                            verbose = True)\n",
    "#     if np.mean(num_iter_learning) < np.mean(num_iter_standard):\n",
    "#         seed_list_127.append(test_seed)\n",
    "#         print(\"seed list:\", seed_list_127)"
   ]
  },
  {
   "cell_type": "code",
   "execution_count": 70,
   "metadata": {},
   "outputs": [
    {
     "name": "stdout",
     "output_type": "stream",
     "text": [
      "[104, 95, 92, 112, 109, 90, 103, 110, 103, 110]\n",
      "[423, 414, 419, 576, 468, 424, 425, 464, 421, 497]\n"
     ]
    }
   ],
   "source": [
    "print(num_iter_standard)\n",
    "print(num_iter_learning)"
   ]
  },
  {
   "cell_type": "markdown",
   "metadata": {},
   "source": [
    "# MLP"
   ]
  },
  {
   "cell_type": "code",
   "execution_count": 72,
   "metadata": {},
   "outputs": [],
   "source": [
    "# define problem\n",
    "list_eps = [0.01]\n",
    "theta_low = np.pi/6\n",
    "theta_high = np.pi/4\n",
    "list_theta = np.linspace(theta_low, theta_high, 10)"
   ]
  },
  {
   "cell_type": "code",
   "execution_count": 74,
   "metadata": {
    "scrolled": true
   },
   "outputs": [
    {
     "name": "stdout",
     "output_type": "stream",
     "text": [
      "seed: 36\n",
      " epoch:  0  loss:  tensor(6.7295, device='cuda:0', grad_fn=<AddBackward0>)\n",
      " epoch:  250  loss:  tensor(0.0111, device='cuda:0', grad_fn=<AddBackward0>)\n",
      " epoch:  500  loss:  tensor(0.0104, device='cuda:0', grad_fn=<AddBackward0>)\n",
      " epoch:  750  loss:  tensor(0.0101, device='cuda:0', grad_fn=<AddBackward0>)\n",
      " epoch:  1000  loss:  tensor(0.0098, device='cuda:0', grad_fn=<AddBackward0>)\n",
      " epoch:  1250  loss:  tensor(0.0096, device='cuda:0', grad_fn=<AddBackward0>)\n",
      " epoch:  1500  loss:  tensor(0.0095, device='cuda:0', grad_fn=<AddBackward0>)\n",
      " epoch:  1750  loss:  tensor(0.0094, device='cuda:0', grad_fn=<AddBackward0>)\n",
      " epoch:  1999  loss:  tensor(0.0093, device='cuda:0', grad_fn=<AddBackward0>)\n"
     ]
    }
   ],
   "source": [
    "# seed += 1\n",
    "print('seed:',seed)\n",
    "set_global_seed(seed)\n",
    "epochs = 2000\n",
    "adam_decay_rate = 0 # adam weight decay\n",
    "lr = 1e-3 # learning rate\n",
    "lr_decay_rate = 0.5 # learning rate decay\n",
    "lr_decay_step = 500 # learning rate decay step size\n",
    "model_prob_l2 = BasicNet([64])\n",
    "model_value_l2 = BasicNet([64])\n",
    "k2 = 10\n",
    "k3 = 15\n",
    "same_vecs = False\n",
    "single_model = False # if true, only model_prob will be learned. \n",
    "softmax_on = True # if true, turn on the softmax in the function top_k during sparsfication\n",
    "problem = RotatedLaplacian(31,[k2,k3],list_eps, list_theta,'fixed xi',same_vecs=same_vecs)\n",
    "\n",
    "model_prob_l2,model_value_l2 = problem.train(problem.A2_train, \n",
    "                                             problem.s2_train,\n",
    "                                             problem.eig_vec2_train,\n",
    "                                             model_prob_l2,\n",
    "                                             model_value_l2,\n",
    "                                             epochs,\n",
    "                                             adam_decay_rate,\n",
    "                                             lr,\n",
    "                                             lr_decay_rate,\n",
    "                                             lr_decay_step,\n",
    "                                             device,\n",
    "                                             single_model=single_model,\n",
    "                                             softmax_on = softmax_on,\n",
    "                                             verbose = True)"
   ]
  },
  {
   "cell_type": "code",
   "execution_count": null,
   "metadata": {},
   "outputs": [],
   "source": []
  }
 ],
 "metadata": {
  "colab": {
   "collapsed_sections": [],
   "name": "Copy of Thesis Diffusion.ipynb",
   "provenance": []
  },
  "interpreter": {
   "hash": "aee8b7b246df8f9039afb4144a1f6fd8d2ca17a180786b69acc140d282b71a49"
  },
  "kernelspec": {
   "display_name": "Python 3 (ipykernel)",
   "language": "python",
   "name": "python3"
  },
  "language_info": {
   "codemirror_mode": {
    "name": "ipython",
    "version": 3
   },
   "file_extension": ".py",
   "mimetype": "text/x-python",
   "name": "python",
   "nbconvert_exporter": "python",
   "pygments_lexer": "ipython3",
   "version": "3.8.10"
  },
  "nteract": {
   "version": "0.28.0"
  }
 },
 "nbformat": 4,
 "nbformat_minor": 4
}
