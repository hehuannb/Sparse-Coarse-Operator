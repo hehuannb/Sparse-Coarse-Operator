{
 "cells": [
  {
   "cell_type": "code",
   "execution_count": 1,
   "metadata": {
    "scrolled": false
   },
   "outputs": [
    {
     "name": "stdout",
     "output_type": "stream",
     "text": [
      "/local/scratch/kchan76/sparse-coarse-operator\n"
     ]
    },
    {
     "name": "stderr",
     "output_type": "stream",
     "text": [
      "/local/scratch/kchan76/sparse-stencil-learning/src/pyamg2/lib/python3.8/site-packages/tqdm/auto.py:22: TqdmWarning: IProgress not found. Please update jupyter and ipywidgets. See https://ipywidgets.readthedocs.io/en/stable/user_install.html\n",
      "  from .autonotebook import tqdm as notebook_tqdm\n"
     ]
    },
    {
     "name": "stdout",
     "output_type": "stream",
     "text": [
      "device: cuda:1\n"
     ]
    }
   ],
   "source": [
    "import os\n",
    "print(os.getcwd())\n",
    "import sys\n",
    "sys.path.append('/local/scratch/kchan76/sparse-coarse-operator/')\n",
    "from libs.pde import *\n",
    "from libs.rotated_laplacian import RotatedLaplacian\n",
    "from libs.models import BasicNet, MultiHeadedAttention\n",
    "import torch\n",
    "\n",
    "device = torch.device('cuda:1' if torch.cuda.is_available() else 'cpu')\n",
    "print('device:', device)"
   ]
  },
  {
   "cell_type": "markdown",
   "metadata": {},
   "source": [
    "# 3-Level Attention "
   ]
  },
  {
   "cell_type": "code",
   "execution_count": 18,
   "metadata": {},
   "outputs": [],
   "source": [
    "seed = 4\n",
    "list_eps = [1/200]\n",
    "low_pi = 6\n",
    "high_pi = 7\n",
    "theta_low = np.pi/12*low_pi\n",
    "theta_high = np.pi/12*high_pi\n",
    "npts = 5\n",
    "list_theta = np.linspace(theta_low, theta_high, npts)"
   ]
  },
  {
   "cell_type": "code",
   "execution_count": 19,
   "metadata": {},
   "outputs": [],
   "source": [
    "train_grid_size = 31\n",
    "k2 = 20\n",
    "k3 = 15\n",
    "same_vecs = False\n",
    "PDE = RotatedLaplacian(train_grid_size,[k2,k3],list_eps, list_theta,'fixed xi',same_vecs=same_vecs)"
   ]
  },
  {
   "cell_type": "code",
   "execution_count": 20,
   "metadata": {},
   "outputs": [
    {
     "name": "stdout",
     "output_type": "stream",
     "text": [
      "seed: 4\n",
      " epoch:  0  loss:  tensor(5.0305, device='cuda:1', dtype=torch.float64, grad_fn=<AddBackward0>)\n",
      " epoch:  250  loss:  tensor(0.0198, device='cuda:1', dtype=torch.float64, grad_fn=<AddBackward0>)\n",
      " epoch:  500  loss:  tensor(0.0116, device='cuda:1', dtype=torch.float64, grad_fn=<AddBackward0>)\n",
      " epoch:  750  loss:  tensor(0.0102, device='cuda:1', dtype=torch.float64, grad_fn=<AddBackward0>)\n",
      " epoch:  1000  loss:  tensor(0.0101, device='cuda:1', dtype=torch.float64, grad_fn=<AddBackward0>)\n",
      " epoch:  1250  loss:  tensor(0.0100, device='cuda:1', dtype=torch.float64, grad_fn=<AddBackward0>)\n",
      " epoch:  1499  loss:  tensor(0.0095, device='cuda:1', dtype=torch.float64, grad_fn=<AddBackward0>)\n"
     ]
    }
   ],
   "source": [
    "# LEVEL 2\n",
    "seed = 4\n",
    "print('seed:', seed)\n",
    "set_global_seed(seed)\n",
    "h = 8\n",
    "dhid = 256\n",
    "epochs = 1500\n",
    "adam_decay_rate = 0 # adam weight decay\n",
    "lr = 1e-3 # learning rate\n",
    "lr_decay_rate = 1 # learning rate decay\n",
    "lr_decay_step = 1000 # learning rate decay step size\n",
    "init = 'xavier uniform' # \"<name> <distribution>\" name={'xavier', 'kaiming'} distribution={'uniform', 'normal'}\n",
    "\n",
    "ncopy = 1\n",
    "single_model = False # KEEP IT FALSE!! if true, only model_prob will be learned\n",
    "softmax_topk = True\n",
    "dropout = 0.1\n",
    "\n",
    "model_prob_l2 = MultiHeadedAttention(h ,dhid, ncopy=ncopy, init=init, dropout=dropout)\n",
    "model_value_l2 = MultiHeadedAttention(h, dhid, ncopy=ncopy, init=init, dropout=dropout)\n",
    "\n",
    "\n",
    "model_prob_l2,model_value_l2 = PDE.train(PDE.A2_train, \n",
    "                                         PDE.s2_train,\n",
    "                                         PDE.eig_vec2_train,\n",
    "                                         model_prob_l2,\n",
    "                                         model_value_l2,\n",
    "                                         epochs,\n",
    "                                         adam_decay_rate,\n",
    "                                         lr,\n",
    "                                         lr_decay_rate,\n",
    "                                         lr_decay_step,\n",
    "                                         device,\n",
    "                                         single_model=single_model,\n",
    "                                         softmax_on = softmax_topk,\n",
    "                                         verbose = True)\n",
    "\n",
    "\n"
   ]
  },
  {
   "cell_type": "code",
   "execution_count": 39,
   "metadata": {},
   "outputs": [
    {
     "name": "stdout",
     "output_type": "stream",
     "text": [
      "test seed: 9\n",
      "standard stencil iter:    308.0   standard stencil time:   4.9742310523986815\n",
      "learned stencil iter:    308.2   learned stencil time:   4.255370831489563\n"
     ]
    }
   ],
   "source": [
    "# test level-2 model\n",
    "test_seed = 9\n",
    "set_global_seed(test_seed)\n",
    "#     sizes = [63,127,255,511]\n",
    "print('test seed:', test_seed)\n",
    "num_test = 10\n",
    "models = {}\n",
    "models['level2'] = model_prob_l2, model_value_l2\n",
    "test_grid_size = 255\n",
    "max_levels = 2\n",
    "epsilon = tuple(list_eps)\n",
    "theta = (theta_low, theta_high)\n",
    "random_test = True\n",
    "\n",
    "\n",
    "# for test_grid_size in sizes:\n",
    "#     print('size:', test_grid_size)\n",
    "num_iter_standard, num_iter_learning, thetaList, xs, xl = PDE.test_model(num_test,\n",
    "                                                                models,\n",
    "                                                                test_grid_size,\n",
    "                                                                max_levels,\n",
    "                                                                epsilon,\n",
    "                                                                theta,\n",
    "                                                                device,\n",
    "                                                                random_test=random_test,\n",
    "                                                                single_model=single_model,\n",
    "                                                                softmax_on = softmax_topk,\n",
    "                                                                verbose = True)\n",
    "#     criterion = np.greater(num_iter_standard, num_iter_learning)\n",
    "#     if not np.any(~criterion):\n",
    "#     if np.mean(num_iter_learning)-np.mean(num_iter_standard) < 1:\n",
    "#         seedlist.append(test_seed)\n",
    "#         print(seedlist)\n",
    "#     break\n"
   ]
  },
  {
   "cell_type": "code",
   "execution_count": 40,
   "metadata": {},
   "outputs": [
    {
     "name": "stdout",
     "output_type": "stream",
     "text": [
      "[490, 146, 147, 410, 408, 323, 178, 295, 463, 220]\n",
      "[490, 147, 148, 410, 408, 323, 178, 295, 463, 220]\n"
     ]
    }
   ],
   "source": [
    "print(num_iter_standard)\n",
    "print(num_iter_learning)\n",
    "# print(thetaList)"
   ]
  },
  {
   "cell_type": "code",
   "execution_count": 27,
   "metadata": {},
   "outputs": [
    {
     "data": {
      "text/plain": [
       "285.9"
      ]
     },
     "execution_count": 27,
     "metadata": {},
     "output_type": "execute_result"
    }
   ],
   "source": [
    "np.mean(num_iter_learning)"
   ]
  },
  {
   "cell_type": "markdown",
   "metadata": {},
   "source": [
    "## Level 3"
   ]
  },
  {
   "cell_type": "code",
   "execution_count": 21,
   "metadata": {},
   "outputs": [
    {
     "name": "stdout",
     "output_type": "stream",
     "text": [
      "seed: 62\n",
      " epoch:  0  loss:  tensor(0.7460, device='cuda:1', dtype=torch.float64, grad_fn=<AddBackward0>)\n",
      " epoch:  250  loss:  tensor(0.0093, device='cuda:1', dtype=torch.float64, grad_fn=<AddBackward0>)\n",
      " epoch:  500  loss:  tensor(0.0092, device='cuda:1', dtype=torch.float64, grad_fn=<AddBackward0>)\n",
      " epoch:  750  loss:  tensor(0.0074, device='cuda:1', dtype=torch.float64, grad_fn=<AddBackward0>)\n",
      " epoch:  1000  loss:  tensor(0.0084, device='cuda:1', dtype=torch.float64, grad_fn=<AddBackward0>)\n",
      " epoch:  1250  loss:  tensor(0.0082, device='cuda:1', dtype=torch.float64, grad_fn=<AddBackward0>)\n",
      " epoch:  1499  loss:  tensor(0.0069, device='cuda:1', dtype=torch.float64, grad_fn=<AddBackward0>)\n"
     ]
    }
   ],
   "source": [
    "# LEVEL 3\n",
    "l3_seed = 62\n",
    "print('seed:', l3_seed)\n",
    "set_global_seed(l3_seed)\n",
    "h3 = 8\n",
    "dhid3 = 256\n",
    "epochs3 = 1500\n",
    "adam_decay_rate3 = 0 # adam weight decay\n",
    "lr3 = 5e-5 # learning rate\n",
    "lr_decay_rate3 = 0.8 # learning rate decay\n",
    "lr_decay_step3 = 750 # learning rate decay step size\n",
    "init3 = 'xavier uniform' \n",
    "\n",
    "ncopy3 = 1\n",
    "single_model3 = False\n",
    "softmax_topk3 = True\n",
    "dropout3 = 0.3\n",
    "\n",
    "model_prob_l3 = MultiHeadedAttention(h3 ,dhid3, ncopy=ncopy3, init=init3, dropout=dropout3)\n",
    "model_value_l3 = MultiHeadedAttention(h3, dhid3, ncopy=ncopy3, init=init3, dropout=dropout3)\n",
    "\n",
    "model_prob_l3,model_value_l3 = PDE.train(PDE.A3_train, \n",
    "                                         PDE.s3_train,\n",
    "                                         PDE.eig_vec3_train,\n",
    "                                         model_prob_l3,\n",
    "                                         model_value_l3,\n",
    "                                         epochs3,\n",
    "                                         adam_decay_rate3,\n",
    "                                         lr3,\n",
    "                                         lr_decay_rate3,\n",
    "                                         lr_decay_step3,\n",
    "                                         device,\n",
    "                                         single_model= single_model3,\n",
    "                                         softmax_on = softmax_topk3,\n",
    "                                         verbose = True)"
   ]
  },
  {
   "cell_type": "code",
   "execution_count": 24,
   "metadata": {},
   "outputs": [],
   "source": [
    "import os\n",
    "MODEL_DIR = f\"./models/laplacian/fixed-xi/xi-{int(1/list_eps[0])}/theta-{low_pi}pi\\\\12-{high_pi}pi\\\\12/\"\n",
    "if not os.path.isdir(MODEL_DIR):\n",
    "    os.makedirs(MODEL_DIR)\n",
    "torch.save(model_prob_l2, MODEL_DIR+\"level2_prob.pt\")\n",
    "torch.save(model_value_l2, MODEL_DIR+\"level2_value.pt\")\n",
    "torch.save(model_prob_l3, MODEL_DIR+\"level3_prob.pt\")\n",
    "torch.save(model_value_l3, MODEL_DIR+\"level3_value.pt\")"
   ]
  },
  {
   "cell_type": "code",
   "execution_count": 25,
   "metadata": {},
   "outputs": [],
   "source": [
    "MODEL_DIR = f\"./models/laplacian/fixed-xi/xi-{int(1/list_eps[0])}/theta-{low_pi}pi\\\\12-{high_pi}pi\\\\12/\"\n",
    "model_prob_l2=torch.load(MODEL_DIR+\"level2_prob.pt\")\n",
    "model_value_l2=torch.load(MODEL_DIR+\"level2_value.pt\")\n",
    "model_prob_l3=torch.load(MODEL_DIR+\"level3_prob.pt\")\n",
    "model_value_l3 = torch.load(MODEL_DIR+\"level3_value.pt\")"
   ]
  },
  {
   "cell_type": "code",
   "execution_count": 29,
   "metadata": {},
   "outputs": [
    {
     "name": "stdout",
     "output_type": "stream",
     "text": [
      "test seed: 30\n",
      "size:  95\n",
      "standard stencil iter:    192.4   standard stencil time:   0.20125854015350342\n",
      "learned stencil iter:    188.7   learned stencil time:   0.33770477771759033\n"
     ]
    }
   ],
   "source": [
    "test_seed = 30\n",
    "set_global_seed(test_seed)\n",
    "print('test seed:', test_seed)\n",
    "num_test = 10\n",
    "models = {}\n",
    "models['level2'] = model_prob_l2, model_value_l2\n",
    "models['level3'] = model_prob_l3, model_value_l3\n",
    "test_grid_size = 95\n",
    "random_test = True\n",
    "# sizes = [63,95,127,191,255,383]\n",
    "# for test_grid_size in sizes:\n",
    "print('size: ',test_grid_size)\n",
    "max_levels = 3\n",
    "epsilon = tuple(list_eps)\n",
    "theta = (theta_low, theta_high)\n",
    "\n",
    "num_iter_standard, num_iter_learning, ThetaList,_, _ = PDE.test_model(num_test,\n",
    "                                                            models,\n",
    "                                                            test_grid_size,\n",
    "                                                            max_levels,\n",
    "                                                            epsilon,\n",
    "                                                            theta,\n",
    "                                                            device,\n",
    "                                                            random_test = random_test,\n",
    "                                                            single_model=single_model,\n",
    "                                                            softmax_on = softmax_topk,\n",
    "                                                            verbose = True)"
   ]
  },
  {
   "cell_type": "code",
   "execution_count": 43,
   "metadata": {},
   "outputs": [
    {
     "name": "stdout",
     "output_type": "stream",
     "text": [
      "[89, 347, 430, 210, 266, 155, 245, 241, 406, 287]\n",
      "[501, 348, 431, 1001, 1001, 1001, 1001, 258, 406, 1001]\n"
     ]
    }
   ],
   "source": [
    "print(num_iter_standard)\n",
    "print(num_iter_learning)"
   ]
  },
  {
   "cell_type": "markdown",
   "metadata": {},
   "source": [
    "# MLP"
   ]
  },
  {
   "cell_type": "code",
   "execution_count": 72,
   "metadata": {},
   "outputs": [],
   "source": [
    "# define problem\n",
    "list_eps = [0.01]\n",
    "theta_low = np.pi/6\n",
    "theta_high = np.pi/4\n",
    "list_theta = np.linspace(theta_low, theta_high, 10)"
   ]
  },
  {
   "cell_type": "code",
   "execution_count": 74,
   "metadata": {
    "scrolled": true
   },
   "outputs": [
    {
     "name": "stdout",
     "output_type": "stream",
     "text": [
      "seed: 36\n",
      " epoch:  0  loss:  tensor(6.7295, device='cuda:0', grad_fn=<AddBackward0>)\n",
      " epoch:  250  loss:  tensor(0.0111, device='cuda:0', grad_fn=<AddBackward0>)\n",
      " epoch:  500  loss:  tensor(0.0104, device='cuda:0', grad_fn=<AddBackward0>)\n",
      " epoch:  750  loss:  tensor(0.0101, device='cuda:0', grad_fn=<AddBackward0>)\n",
      " epoch:  1000  loss:  tensor(0.0098, device='cuda:0', grad_fn=<AddBackward0>)\n",
      " epoch:  1250  loss:  tensor(0.0096, device='cuda:0', grad_fn=<AddBackward0>)\n",
      " epoch:  1500  loss:  tensor(0.0095, device='cuda:0', grad_fn=<AddBackward0>)\n",
      " epoch:  1750  loss:  tensor(0.0094, device='cuda:0', grad_fn=<AddBackward0>)\n",
      " epoch:  1999  loss:  tensor(0.0093, device='cuda:0', grad_fn=<AddBackward0>)\n"
     ]
    }
   ],
   "source": [
    "# seed += 1\n",
    "print('seed:',seed)\n",
    "set_global_seed(seed)\n",
    "epochs = 2000\n",
    "adam_decay_rate = 0 # adam weight decay\n",
    "lr = 1e-3 # learning rate\n",
    "lr_decay_rate = 0.5 # learning rate decay\n",
    "lr_decay_step = 500 # learning rate decay step size\n",
    "model_prob_l2 = BasicNet([64])\n",
    "model_value_l2 = BasicNet([64])\n",
    "k2 = 10\n",
    "k3 = 15\n",
    "same_vecs = False\n",
    "single_model = False # if true, only model_prob will be learned. \n",
    "softmax_on = True # if true, turn on the softmax in the function top_k during sparsfication\n",
    "problem = RotatedLaplacian(31,[k2,k3],list_eps, list_theta,'fixed xi',same_vecs=same_vecs)\n",
    "\n",
    "model_prob_l2,model_value_l2 = problem.train(problem.A2_train, \n",
    "                                             problem.s2_train,\n",
    "                                             problem.eig_vec2_train,\n",
    "                                             model_prob_l2,\n",
    "                                             model_value_l2,\n",
    "                                             epochs,\n",
    "                                             adam_decay_rate,\n",
    "                                             lr,\n",
    "                                             lr_decay_rate,\n",
    "                                             lr_decay_step,\n",
    "                                             device,\n",
    "                                             single_model=single_model,\n",
    "                                             softmax_on = softmax_on,\n",
    "                                             verbose = True)"
   ]
  },
  {
   "cell_type": "code",
   "execution_count": null,
   "metadata": {},
   "outputs": [],
   "source": []
  }
 ],
 "metadata": {
  "colab": {
   "collapsed_sections": [],
   "name": "Copy of Thesis Diffusion.ipynb",
   "provenance": []
  },
  "interpreter": {
   "hash": "31f2aee4e71d21fbe5cf8b01ff0e069b9275f58929596ceb00d14d90e3e16cd6"
  },
  "kernelspec": {
   "display_name": "Python 3 (ipykernel)",
   "language": "python",
   "name": "python3"
  },
  "language_info": {
   "codemirror_mode": {
    "name": "ipython",
    "version": 3
   },
   "file_extension": ".py",
   "mimetype": "text/x-python",
   "name": "python",
   "nbconvert_exporter": "python",
   "pygments_lexer": "ipython3",
   "version": "3.8.10"
  },
  "nteract": {
   "version": "0.28.0"
  }
 },
 "nbformat": 4,
 "nbformat_minor": 4
}
