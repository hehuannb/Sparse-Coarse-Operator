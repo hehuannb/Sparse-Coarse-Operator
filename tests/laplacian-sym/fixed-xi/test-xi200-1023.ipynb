{
 "cells": [
  {
   "cell_type": "code",
   "execution_count": 1,
   "metadata": {
    "scrolled": false
   },
   "outputs": [
    {
     "name": "stdout",
     "output_type": "stream",
     "text": [
      "/local/scratch/kchan76/sparse-coarse-operator/tests/laplacian/fixed-xi\n"
     ]
    },
    {
     "name": "stderr",
     "output_type": "stream",
     "text": [
      "/local/scratch/kchan76/sparse-stencil-learning/src/pyamg2/lib/python3.8/site-packages/tqdm/auto.py:22: TqdmWarning: IProgress not found. Please update jupyter and ipywidgets. See https://ipywidgets.readthedocs.io/en/stable/user_install.html\n",
      "  from .autonotebook import tqdm as notebook_tqdm\n"
     ]
    },
    {
     "name": "stdout",
     "output_type": "stream",
     "text": [
      "device: cuda:1\n"
     ]
    }
   ],
   "source": [
    "import os\n",
    "print(os.getcwd())\n",
    "import sys\n",
    "sys.path.append('/local/scratch/kchan76/sparse-coarse-operator/')\n",
    "from libs.pde import *\n",
    "from libs.rotated_laplacian import RotatedLaplacian\n",
    "from libs.models import BasicNet, MultiHeadedAttention\n",
    "import torch\n",
    "\n",
    "device = torch.device('cuda:1' if torch.cuda.is_available() else 'cpu')\n",
    "print('device:', device)"
   ]
  },
  {
   "cell_type": "markdown",
   "metadata": {},
   "source": [
    "# 3-Level Attention "
   ]
  },
  {
   "cell_type": "code",
   "execution_count": 2,
   "metadata": {},
   "outputs": [],
   "source": [
    "# seed = 63\n",
    "list_eps = [1/200]\n",
    "low_pi = 3\n",
    "high_pi = 4\n",
    "theta_low = np.pi/12*low_pi\n",
    "theta_high = np.pi/12*high_pi\n",
    "npts = 5\n",
    "list_theta = np.linspace(theta_low, theta_high, npts)"
   ]
  },
  {
   "cell_type": "code",
   "execution_count": 3,
   "metadata": {},
   "outputs": [],
   "source": [
    "train_grid_size = 31\n",
    "k2 = 19\n",
    "k3 = 15\n",
    "same_vecs = False\n",
    "PDE = RotatedLaplacian(train_grid_size,[k2,k3],list_eps, list_theta,'fixed xi',same_vecs=same_vecs)"
   ]
  },
  {
   "cell_type": "code",
   "execution_count": 4,
   "metadata": {},
   "outputs": [
    {
     "name": "stdout",
     "output_type": "stream",
     "text": [
      "seed: 4\n",
      " epoch:  0  loss:  tensor(0.4813, device='cuda:1', dtype=torch.float64, grad_fn=<AddBackward0>)\n",
      " epoch:  250  loss:  tensor(0.0157, device='cuda:1', dtype=torch.float64, grad_fn=<AddBackward0>)\n",
      " epoch:  500  loss:  tensor(0.0111, device='cuda:1', dtype=torch.float64, grad_fn=<AddBackward0>)\n",
      " epoch:  750  loss:  tensor(0.0111, device='cuda:1', dtype=torch.float64, grad_fn=<AddBackward0>)\n",
      " epoch:  999  loss:  tensor(0.0110, device='cuda:1', dtype=torch.float64, grad_fn=<AddBackward0>)\n"
     ]
    }
   ],
   "source": [
    "# LEVEL 2\n",
    "seed = 4\n",
    "print('seed:', seed)\n",
    "set_global_seed(seed)\n",
    "h = 8\n",
    "dhid = 256\n",
    "epochs = 1000\n",
    "adam_decay_rate = 0 # adam weight decay\n",
    "lr = 1e-4 # learning rate\n",
    "lr_decay_rate = 1 # learning rate decay\n",
    "lr_decay_step = 1000 # learning rate decay step size\n",
    "init = 'xavier uniform' # \"<name> <distribution>\" name={'xavier', 'kaiming'} distribution={'uniform', 'normal'}\n",
    "\n",
    "ncopy = 1\n",
    "single_model = False # KEEP IT FALSE!! if true, only model_prob will be learned\n",
    "softmax_topk = False\n",
    "dropout = 0.1\n",
    "\n",
    "model_prob_l2 = MultiHeadedAttention(h ,dhid, ncopy=ncopy, init=init, dropout=dropout)\n",
    "model_value_l2 = MultiHeadedAttention(h, dhid, ncopy=ncopy, init=init, dropout=dropout)\n",
    "\n",
    "\n",
    "model_prob_l2,model_value_l2 = PDE.train(PDE.A2_train, \n",
    "                                         PDE.s2_train,\n",
    "                                         PDE.eig_vec2_train,\n",
    "                                         model_prob_l2,\n",
    "                                         model_value_l2,\n",
    "                                         epochs,\n",
    "                                         adam_decay_rate,\n",
    "                                         lr,\n",
    "                                         lr_decay_rate,\n",
    "                                         lr_decay_step,\n",
    "                                         device,\n",
    "                                         single_model=single_model,\n",
    "                                         softmax_on = softmax_topk,\n",
    "                                         verbose = True)\n",
    "\n",
    "\n"
   ]
  },
  {
   "cell_type": "markdown",
   "metadata": {},
   "source": [
    "## Level 3"
   ]
  },
  {
   "cell_type": "code",
   "execution_count": 5,
   "metadata": {},
   "outputs": [
    {
     "name": "stdout",
     "output_type": "stream",
     "text": [
      "seed: 62\n",
      " epoch:  0  loss:  tensor(0.3600, device='cuda:1', dtype=torch.float64, grad_fn=<AddBackward0>)\n",
      " epoch:  250  loss:  tensor(0.0147, device='cuda:1', dtype=torch.float64, grad_fn=<AddBackward0>)\n",
      " epoch:  500  loss:  tensor(0.0039, device='cuda:1', dtype=torch.float64, grad_fn=<AddBackward0>)\n",
      " epoch:  750  loss:  tensor(0.0039, device='cuda:1', dtype=torch.float64, grad_fn=<AddBackward0>)\n",
      " epoch:  1000  loss:  tensor(0.0039, device='cuda:1', dtype=torch.float64, grad_fn=<AddBackward0>)\n",
      " epoch:  1250  loss:  tensor(0.0034, device='cuda:1', dtype=torch.float64, grad_fn=<AddBackward0>)\n",
      " epoch:  1499  loss:  tensor(0.0034, device='cuda:1', dtype=torch.float64, grad_fn=<AddBackward0>)\n"
     ]
    }
   ],
   "source": [
    "# LEVEL 3\n",
    "l3_seed = 62\n",
    "print('seed:', l3_seed)\n",
    "set_global_seed(l3_seed)\n",
    "h3 = 8\n",
    "dhid3 = 256\n",
    "epochs3 = 1500\n",
    "adam_decay_rate3 = 0 # adam weight decay\n",
    "lr3 = 5e-5 # learning rate\n",
    "lr_decay_rate3 = 0.8 # learning rate decay\n",
    "lr_decay_step3 = 750 # learning rate decay step size\n",
    "init3 = 'xavier uniform' \n",
    "\n",
    "ncopy3 = 1\n",
    "single_model3 = False\n",
    "softmax_topk3 = True\n",
    "dropout3 = 0.5\n",
    "\n",
    "\n",
    "model_prob_l3 = MultiHeadedAttention(h3 ,dhid3, ncopy=ncopy3, init=init3, dropout=dropout3)\n",
    "model_value_l3 = MultiHeadedAttention(h3, dhid3, ncopy=ncopy3, init=init3, dropout=dropout3)\n",
    "\n",
    "model_prob_l3,model_value_l3 = PDE.train(PDE.A3_train, \n",
    "                                         PDE.s3_train,\n",
    "                                         PDE.eig_vec3_train,\n",
    "                                         model_prob_l3,\n",
    "                                         model_value_l3,\n",
    "                                         epochs3,\n",
    "                                         adam_decay_rate3,\n",
    "                                         lr3,\n",
    "                                         lr_decay_rate3,\n",
    "                                         lr_decay_step3,\n",
    "                                         device,\n",
    "                                         single_model= single_model3,\n",
    "                                         softmax_on = softmax_topk3,\n",
    "                                         verbose = True)"
   ]
  },
  {
   "cell_type": "code",
   "execution_count": 7,
   "metadata": {},
   "outputs": [
    {
     "name": "stdout",
     "output_type": "stream",
     "text": [
      "test seed: 15\n",
      "size: 1023\n",
      "standard stencil iter:    11.7   standard stencil time:   35.81324124336243\n",
      "learned stencil iter:    19.9   learned stencil time:   29.259760069847108\n"
     ]
    }
   ],
   "source": [
    "test_seed = 15\n",
    "# seed_list_127 =[]\n",
    "# for test_seed in range(100):\n",
    "set_global_seed(test_seed)\n",
    "print('test seed:', test_seed)\n",
    "sizes = [1023]\n",
    "num_test = 10\n",
    "models = {}\n",
    "models['level2'] = model_prob_l2, model_value_l2\n",
    "models['level3'] = model_prob_l3, model_value_l3\n",
    "test_grid_size = 127\n",
    "max_levels = 3\n",
    "epsilon = tuple(list_eps)\n",
    "theta = (theta_low, theta_high)\n",
    "random_test = True\n",
    "dropout_on = False\n",
    "accel = 'gmres'\n",
    "# accel = None\n",
    "\n",
    "\n",
    "for test_grid_size in sizes:\n",
    "    print('size:',test_grid_size)\n",
    "    set_global_seed(test_seed)\n",
    "    num_iter_standard, num_iter_learning, thetaList, _, _ = PDE.test_model(num_test,\n",
    "                                                            models,\n",
    "                                                            test_grid_size,\n",
    "                                                            max_levels,\n",
    "                                                            epsilon,\n",
    "                                                            theta,\n",
    "                                                            device,\n",
    "                                                            top_accel = accel,\n",
    "                                                            dropout_on=dropout_on,\n",
    "                                                            random_test=random_test,\n",
    "                                                            single_model=single_model,\n",
    "                                                            softmax_on = softmax_topk,\n",
    "                                                            verbose = True)\n",
    "#     if np.mean(num_iter_learning) < np.mean(num_iter_standard):\n",
    "#         seed_list_127.append(test_seed)\n",
    "#         print(\"seed list:\", seed_list_127)"
   ]
  },
  {
   "cell_type": "code",
   "execution_count": 70,
   "metadata": {},
   "outputs": [
    {
     "name": "stdout",
     "output_type": "stream",
     "text": [
      "[104, 95, 92, 112, 109, 90, 103, 110, 103, 110]\n",
      "[423, 414, 419, 576, 468, 424, 425, 464, 421, 497]\n"
     ]
    }
   ],
   "source": [
    "print(num_iter_standard)\n",
    "print(num_iter_learning)"
   ]
  }
 ],
 "metadata": {
  "colab": {
   "collapsed_sections": [],
   "name": "Copy of Thesis Diffusion.ipynb",
   "provenance": []
  },
  "interpreter": {
   "hash": "aee8b7b246df8f9039afb4144a1f6fd8d2ca17a180786b69acc140d282b71a49"
  },
  "kernelspec": {
   "display_name": "Python 3 (ipykernel)",
   "language": "python",
   "name": "python3"
  },
  "language_info": {
   "codemirror_mode": {
    "name": "ipython",
    "version": 3
   },
   "file_extension": ".py",
   "mimetype": "text/x-python",
   "name": "python",
   "nbconvert_exporter": "python",
   "pygments_lexer": "ipython3",
   "version": "3.8.10"
  },
  "nteract": {
   "version": "0.28.0"
  }
 },
 "nbformat": 4,
 "nbformat_minor": 4
}
