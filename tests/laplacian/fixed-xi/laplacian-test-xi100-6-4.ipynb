{
 "cells": [
  {
   "cell_type": "code",
   "execution_count": 7,
   "metadata": {
    "scrolled": false
   },
   "outputs": [
    {
     "name": "stdout",
     "output_type": "stream",
     "text": [
      "/local/scratch/kchan76/sparse-coarse-operator/tests/laplacian/fixed-xi\n",
      "device: cuda:1\n"
     ]
    }
   ],
   "source": [
    "import os\n",
    "print(os.getcwd())\n",
    "import sys\n",
    "sys.path.append('/local/scratch/kchan76/sparse-coarse-operator/')\n",
    "from libs.pde import *\n",
    "from libs.rotated_laplacian import RotatedLaplacian\n",
    "from libs.models import BasicNet, MultiHeadedAttention\n",
    "import torch\n",
    "\n",
    "device = torch.device('cuda:1' if torch.cuda.is_available() else 'cpu')\n",
    "print('device:', device)"
   ]
  },
  {
   "cell_type": "markdown",
   "metadata": {},
   "source": [
    "# 3-Level Attention "
   ]
  },
  {
   "cell_type": "code",
   "execution_count": 8,
   "metadata": {},
   "outputs": [],
   "source": [
    "# seed = 63\n",
    "list_eps = [1/100]\n",
    "low_pi = 2\n",
    "high_pi = 3\n",
    "theta_low = np.pi/12*low_pi\n",
    "theta_high = np.pi/12*high_pi\n",
    "npts = 5\n",
    "list_theta = np.linspace(theta_low, theta_high, npts)"
   ]
  },
  {
   "cell_type": "code",
   "execution_count": 9,
   "metadata": {},
   "outputs": [],
   "source": [
    "train_grid_size = 31\n",
    "k2 = 10\n",
    "k3 = 10\n",
    "same_vecs = False\n",
    "PDE = RotatedLaplacian(train_grid_size,[k2,k3],list_eps, list_theta,'fixed xi',same_vecs=same_vecs)"
   ]
  },
  {
   "cell_type": "code",
   "execution_count": 10,
   "metadata": {},
   "outputs": [
    {
     "name": "stdout",
     "output_type": "stream",
     "text": [
      " epoch:  0  loss:  tensor(0.0647, device='cuda:1', dtype=torch.float64, grad_fn=<AddBackward0>)\n",
      " epoch:  250  loss:  tensor(0.0027, device='cuda:1', dtype=torch.float64, grad_fn=<AddBackward0>)\n",
      " epoch:  500  loss:  tensor(0.0026, device='cuda:1', dtype=torch.float64, grad_fn=<AddBackward0>)\n",
      " epoch:  750  loss:  tensor(0.0029, device='cuda:1', dtype=torch.float64, grad_fn=<AddBackward0>)\n",
      " epoch:  999  loss:  tensor(0.0022, device='cuda:1', dtype=torch.float64, grad_fn=<AddBackward0>)\n"
     ]
    }
   ],
   "source": [
    "# LEVEL 2\n",
    "seed=63\n",
    "set_global_seed(seed)\n",
    "h = 8\n",
    "dhid = 256\n",
    "epochs = 1000\n",
    "adam_decay_rate = 0 # adam weight decay\n",
    "lr = 1e-4 # learning rate\n",
    "lr_decay_rate = 1 # learning rate decay\n",
    "lr_decay_step = 250 # learning rate decay step size\n",
    "init = 'xavier uniform'\n",
    "\n",
    "ncopy = 1\n",
    "single_model = False # KEEP IT FALSE!! if true, only model_prob will be learned\n",
    "softmax_topk = True\n",
    "dropout = 0.3\n",
    "enforce_stencil_symmetry = None\n",
    "\n",
    "\n",
    "model_prob_l2 = MultiHeadedAttention(h, dhid, ncopy=ncopy, init=init, dropout=dropout)\n",
    "model_value_l2 = MultiHeadedAttention(h, dhid, ncopy=ncopy, init=init, dropout=dropout)\n",
    "\n",
    "\n",
    "model_prob_l2,model_value_l2 = PDE.train(PDE.A2_train, \n",
    "                                         PDE.s2_train,\n",
    "                                         PDE.eig_vec2_train,\n",
    "                                         model_prob_l2,\n",
    "                                         model_value_l2,\n",
    "                                         epochs,\n",
    "                                         adam_decay_rate,\n",
    "                                         lr,\n",
    "                                         lr_decay_rate,\n",
    "                                         lr_decay_step,\n",
    "                                         device,\n",
    "                                         single_model=single_model,\n",
    "                                         softmax_on = softmax_topk,\n",
    "                                         enforce_stencil_symmetry = enforce_stencil_symmetry,\n",
    "                                         verbose = True)\n",
    "\n",
    "\n"
   ]
  },
  {
   "cell_type": "code",
   "execution_count": 28,
   "metadata": {},
   "outputs": [
    {
     "name": "stdout",
     "output_type": "stream",
     "text": [
      "test seed: 13\n",
      "size: 511\n",
      "standard stencil iter:    55.8   standard stencil time:   6.662503075599671\n",
      "learned stencil iter:    816.8   learned stencil time:   56.4192177772522\n"
     ]
    },
    {
     "ename": "ValueError",
     "evalue": "too many values to unpack (expected 5)",
     "output_type": "error",
     "traceback": [
      "\u001b[0;31m---------------------------------------------------------------------------\u001b[0m",
      "\u001b[0;31mValueError\u001b[0m                                Traceback (most recent call last)",
      "Cell \u001b[0;32mIn [28], line 24\u001b[0m\n\u001b[1;32m     22\u001b[0m \u001b[38;5;28mprint\u001b[39m(\u001b[38;5;124m'\u001b[39m\u001b[38;5;124msize:\u001b[39m\u001b[38;5;124m'\u001b[39m, test_grid_size)\n\u001b[1;32m     23\u001b[0m set_global_seed(test_seed)\n\u001b[0;32m---> 24\u001b[0m num_iter_standard, num_iter_learning, thetaList, xs, xl \u001b[38;5;241m=\u001b[39m PDE\u001b[38;5;241m.\u001b[39mtest_model(num_test,\n\u001b[1;32m     25\u001b[0m                                                         models,\n\u001b[1;32m     26\u001b[0m                                                         test_grid_size,\n\u001b[1;32m     27\u001b[0m                                                         max_levels,\n\u001b[1;32m     28\u001b[0m                                                         epsilon,\n\u001b[1;32m     29\u001b[0m                                                         theta,\n\u001b[1;32m     30\u001b[0m                                                         device,\n\u001b[1;32m     31\u001b[0m                                                         dropout_on\u001b[38;5;241m=\u001b[39mdropout_on,\n\u001b[1;32m     32\u001b[0m                                                         random_test \u001b[38;5;241m=\u001b[39m \u001b[38;5;28;01mTrue\u001b[39;00m,\n\u001b[1;32m     33\u001b[0m                                                         single_model\u001b[38;5;241m=\u001b[39msingle_model,\n\u001b[1;32m     34\u001b[0m                                                         enforce_stencil_symmetry \u001b[38;5;241m=\u001b[39m enforce_stencil_symmetry,\n\u001b[1;32m     35\u001b[0m                                                         softmax_on \u001b[38;5;241m=\u001b[39m softmax_topk,\n\u001b[1;32m     36\u001b[0m                                                         top_accel \u001b[38;5;241m=\u001b[39m accel,\n\u001b[1;32m     37\u001b[0m                                                         verbose \u001b[38;5;241m=\u001b[39m \u001b[38;5;28;01mTrue\u001b[39;00m)\n",
      "\u001b[0;31mValueError\u001b[0m: too many values to unpack (expected 5)"
     ]
    }
   ],
   "source": [
    "# test level-2 model\n",
    "test_seed = 13\n",
    "# test_seed = test_seed+1\n",
    "# for test_seed in range(50):\n",
    "set_global_seed(test_seed)\n",
    "print('test seed:', test_seed)\n",
    "\n",
    "# sizes = [63,127,255,511]\n",
    "sizes = [511]\n",
    "num_test = 10\n",
    "models = {}\n",
    "models['level2'] = model_prob_l2, model_value_l2\n",
    "test_grid_size = 63\n",
    "max_levels = 2\n",
    "epsilon = tuple(list_eps)\n",
    "theta = (theta_low, theta_high)\n",
    "accel = None\n",
    "dropout_on = False\n",
    "enforce_stencil_symmetry = None\n",
    "\n",
    "for test_grid_size in sizes:\n",
    "    print('size:', test_grid_size)\n",
    "    set_global_seed(test_seed)\n",
    "    num_iter_standard, num_iter_learning, thetaList, xs, xl = PDE.test_model(num_test,\n",
    "                                                            models,\n",
    "                                                            test_grid_size,\n",
    "                                                            max_levels,\n",
    "                                                            epsilon,\n",
    "                                                            theta,\n",
    "                                                            device,\n",
    "                                                            dropout_on=dropout_on,\n",
    "                                                            random_test = True,\n",
    "                                                            single_model=single_model,\n",
    "                                                            enforce_stencil_symmetry = enforce_stencil_symmetry,\n",
    "                                                            softmax_on = softmax_topk,\n",
    "                                                            top_accel = accel,\n",
    "                                                            verbose = True)"
   ]
  },
  {
   "cell_type": "code",
   "execution_count": 69,
   "metadata": {},
   "outputs": [
    {
     "name": "stdout",
     "output_type": "stream",
     "text": [
      "[12, 12, 12, 12, 12, 12, 12, 12, 12, 12]\n",
      "[99, 254, 255, 176, 186, 208, 247, 217, 137, 237]\n"
     ]
    }
   ],
   "source": [
    "print(num_iter_standard)\n",
    "print(num_iter_learning)"
   ]
  },
  {
   "cell_type": "code",
   "execution_count": 83,
   "metadata": {},
   "outputs": [
    {
     "name": "stdout",
     "output_type": "stream",
     "text": [
      "[2.1936428642673165, 2.242861055382838, 2.250320857584587, 2.2121678867095524, 2.214042612893607, 2.175985142843968, 2.17642663172932, 2.1715891287701963, 2.23335100780533, 2.1981257850804647]\n"
     ]
    }
   ],
   "source": [
    "print(thetaList)"
   ]
  },
  {
   "cell_type": "code",
   "execution_count": 14,
   "metadata": {},
   "outputs": [
    {
     "name": "stdout",
     "output_type": "stream",
     "text": [
      "[0.61980851 1.44330889 2.3055701  ... 0.85026996 0.2907676  0.19303396]\n"
     ]
    }
   ],
   "source": [
    "print(xl)"
   ]
  },
  {
   "cell_type": "markdown",
   "metadata": {},
   "source": [
    "## Level 3"
   ]
  },
  {
   "cell_type": "code",
   "execution_count": 11,
   "metadata": {},
   "outputs": [
    {
     "name": "stdout",
     "output_type": "stream",
     "text": [
      " epoch:  0  loss:  tensor(0.1176, device='cuda:1', dtype=torch.float64, grad_fn=<AddBackward0>)\n",
      " epoch:  250  loss:  tensor(0.0022, device='cuda:1', dtype=torch.float64, grad_fn=<AddBackward0>)\n",
      " epoch:  500  loss:  tensor(0.0014, device='cuda:1', dtype=torch.float64, grad_fn=<AddBackward0>)\n",
      " epoch:  750  loss:  tensor(0.0015, device='cuda:1', dtype=torch.float64, grad_fn=<AddBackward0>)\n",
      " epoch:  999  loss:  tensor(0.0013, device='cuda:1', dtype=torch.float64, grad_fn=<AddBackward0>)\n"
     ]
    }
   ],
   "source": [
    "# LEVEL 3\n",
    "l3_seed = 62\n",
    "set_global_seed(l3_seed)\n",
    "h3 = 8\n",
    "dhid3 = 256\n",
    "epochs3 = 1000\n",
    "adam_decay_rate3 = 0 # adam weight decay\n",
    "lr3 = 1e-4 # learning rate\n",
    "lr_decay_rate3 = 1 # learning rate decay\n",
    "lr_decay_step3 = 500 # learning rate decay step size\n",
    "init3 = 'xavier uniform' \n",
    "\n",
    "ncopy3 = 1\n",
    "single_model3 = False\n",
    "softmax_topk3 = True\n",
    "dropout3 = 0.3\n",
    "enforce_stencil_symmetry = None\n",
    "\n",
    "\n",
    "model_prob_l3 = MultiHeadedAttention(h3 ,dhid3, ncopy=ncopy3, init=init3, dropout=dropout3)\n",
    "model_value_l3 = MultiHeadedAttention(h3, dhid3, ncopy=ncopy3, init=init3, dropout=dropout3)\n",
    "\n",
    "model_prob_l3,model_value_l3 = PDE.train(PDE.A3_train, \n",
    "                                         PDE.s3_train,\n",
    "                                         PDE.eig_vec3_train,\n",
    "                                         model_prob_l3,\n",
    "                                         model_value_l3,\n",
    "                                         epochs3,\n",
    "                                         adam_decay_rate3,\n",
    "                                         lr3,\n",
    "                                         lr_decay_rate3,\n",
    "                                         lr_decay_step3,\n",
    "                                         device,\n",
    "                                         single_model= single_model3,\n",
    "                                         softmax_on = softmax_topk3,\n",
    "                                         enforce_stencil_symmetry = enforce_stencil_symmetry,\n",
    "                                         verbose = True)"
   ]
  },
  {
   "cell_type": "code",
   "execution_count": 41,
   "metadata": {},
   "outputs": [],
   "source": [
    "# MODEL_DIR = f\"./models/laplacian/fixed-xi/xi-{int(1/list_eps[0])}/theta-{low_pi}pi\\\\12-{high_pi}pi\\\\12/\""
   ]
  },
  {
   "cell_type": "code",
   "execution_count": 42,
   "metadata": {},
   "outputs": [],
   "source": [
    "# MODEL_DIR = f\"./models/laplacian/fixed-xi/xi-{int(1/list_eps[0])}/theta-{low_pi}pi\\\\12-{high_pi}pi\\\\12/\"\n",
    "# if not os.path.isdir(MODEL_DIR):\n",
    "#     os.makedirs(MODEL_DIR)\n",
    "# torch.save(model_prob_l2, MODEL_DIR+\"level2_prob.pt\")\n",
    "# torch.save(model_value_l2, MODEL_DIR+\"level2_value.pt\")\n",
    "# torch.save(model_prob_l3, MODEL_DIR+\"level3_prob.pt\")\n",
    "# torch.save(model_value_l3, MODEL_DIR+\"level3_value.pt\")"
   ]
  },
  {
   "cell_type": "code",
   "execution_count": 21,
   "metadata": {},
   "outputs": [],
   "source": [
    "# MODEL_DIR = f\"./models/laplacian/fixed-xi/xi-{int(1/list_eps[0])}/theta-{low_pi}pi\\\\12-{high_pi}pi\\\\12/\"\n",
    "# model_prob_l2=torch.load(MODEL_DIR+\"level2_prob.pt\")\n",
    "# model_value_l2=torch.load(MODEL_DIR+\"level2_value.pt\")\n",
    "# model_prob_l3=torch.load(MODEL_DIR+\"level3_prob.pt\")\n",
    "# model_value_l3 = torch.load(MODEL_DIR+\"level3_value.pt\")"
   ]
  },
  {
   "cell_type": "code",
   "execution_count": 13,
   "metadata": {},
   "outputs": [
    {
     "name": "stdout",
     "output_type": "stream",
     "text": [
      "test seed: 65\n",
      "size: 511\n",
      "standard stencil iter:    11.3   standard stencil time:   2.663744878768921\n",
      "learned stencil iter:    16.5   learned stencil time:   3.588721418380737\n"
     ]
    }
   ],
   "source": [
    "test_seed = 65\n",
    "# seed_list_127 =[]\n",
    "# for test_seed in range(100):\n",
    "set_global_seed(test_seed)\n",
    "print('test seed:', test_seed)\n",
    "sizes = [511]\n",
    "num_test = 10\n",
    "models = {}\n",
    "models['level2'] = model_prob_l2, model_value_l2\n",
    "models['level3'] = model_prob_l3, model_value_l3\n",
    "test_grid_size = 127\n",
    "max_levels = 3\n",
    "epsilon = tuple(list_eps)\n",
    "theta = (theta_low, theta_high)\n",
    "random_test = True\n",
    "dropout_on = False\n",
    "accel = 'gmres'\n",
    "enforce_stencil_symmetry = None\n",
    "\n",
    "for test_grid_size in sizes:\n",
    "    print('size:',test_grid_size)\n",
    "    set_global_seed(test_seed)\n",
    "    num_iter_standard, num_iter_learning, epsList, thetaList, _, _, _, _, _, _ = PDE.test_model(num_test,\n",
    "                                                            models,\n",
    "                                                            test_grid_size,\n",
    "                                                            max_levels,\n",
    "                                                            epsilon,\n",
    "                                                            theta,\n",
    "                                                            device,\n",
    "                                                            top_accel = accel,\n",
    "                                                            dropout_on=dropout_on,\n",
    "                                                            random_test=random_test,\n",
    "                                                            single_model=single_model,\n",
    "                                                            softmax_on = softmax_topk,\n",
    "                                                            enforce_stencil_symmetry = enforce_stencil_symmetry,\n",
    "                                                            verbose = True)\n",
    "#     if np.mean(num_iter_learning) < np.mean(num_iter_standard):\n",
    "#         seed_list_127.append(test_seed)\n",
    "#         print(\"seed list:\", seed_list_127)"
   ]
  },
  {
   "cell_type": "code",
   "execution_count": 23,
   "metadata": {},
   "outputs": [
    {
     "name": "stdout",
     "output_type": "stream",
     "text": [
      "[104, 95, 92, 112, 109, 90, 103, 110, 103, 110]\n",
      "[115, 126, 150, 360, 194, 179, 116, 189, 115, 244]\n"
     ]
    }
   ],
   "source": [
    "print(num_iter_standard)\n",
    "print(num_iter_learning)"
   ]
  },
  {
   "cell_type": "code",
   "execution_count": 44,
   "metadata": {},
   "outputs": [
    {
     "data": {
      "text/plain": [
       "[1.7930162802928942,\n",
       " 1.6176311704189765,\n",
       " 1.5850285830191142,\n",
       " 1.6654468706466492,\n",
       " 1.6428961213033724,\n",
       " 1.7095500612059304,\n",
       " 1.650885711650739,\n",
       " 1.6505075276219896,\n",
       " 1.6000501244895629,\n",
       " 1.6362197356403216]"
      ]
     },
     "execution_count": 44,
     "metadata": {},
     "output_type": "execute_result"
    }
   ],
   "source": [
    "thetaList"
   ]
  },
  {
   "cell_type": "code",
   "execution_count": 71,
   "metadata": {},
   "outputs": [],
   "source": [
    "from pyamg.gallery import diffusion_stencil_2d\n",
    "from scipy.io import savemat\n",
    "\n",
    "file_ind = 0\n",
    "\n",
    "MODEL_DIR = f\"./matrix/xi-{int(1/list_eps[0])}/theta-{low_pi}pi_12-{high_pi}pi_12\"\n",
    "if not os.path.isdir(MODEL_DIR):\n",
    "    os.makedirs(MODEL_DIR)\n",
    "    \n",
    "for theta in thetaList:\n",
    "    s = np.double(diffusion_stencil_2d(epsilon=int(1/list_eps[0]), theta=theta, type='FD'))\n",
    "    A = pyamg.gallery.stencil_grid(s,(511,511)).tocsr()\n",
    "    filename = f\"./matrix/xi-{int(1/list_eps[0])}/theta-{low_pi}pi_12-{high_pi}pi_12/{file_ind}.mat\"\n",
    "    savemat(filename, {'A':A})\n",
    "    file_ind += 1"
   ]
  },
  {
   "cell_type": "code",
   "execution_count": 11,
   "metadata": {},
   "outputs": [],
   "source": [
    "MODEL_DIR = f\"./matrix/xi-{int(1/list_eps[0])}/theta_{low_pi}pi_12-{high_pi}pi_12\"\n",
    "if not os.path.isdir(MODEL_DIR):\n",
    "    os.makedirs(MODEL_DIR)"
   ]
  },
  {
   "cell_type": "markdown",
   "metadata": {},
   "source": [
    "# MLP"
   ]
  },
  {
   "cell_type": "code",
   "execution_count": 72,
   "metadata": {},
   "outputs": [],
   "source": [
    "# define problem\n",
    "list_eps = [0.01]\n",
    "theta_low = np.pi/6\n",
    "theta_high = np.pi/4\n",
    "list_theta = np.linspace(theta_low, theta_high, 10)"
   ]
  },
  {
   "cell_type": "code",
   "execution_count": 74,
   "metadata": {
    "scrolled": true
   },
   "outputs": [
    {
     "name": "stdout",
     "output_type": "stream",
     "text": [
      "seed: 36\n",
      " epoch:  0  loss:  tensor(6.7295, device='cuda:0', grad_fn=<AddBackward0>)\n",
      " epoch:  250  loss:  tensor(0.0111, device='cuda:0', grad_fn=<AddBackward0>)\n",
      " epoch:  500  loss:  tensor(0.0104, device='cuda:0', grad_fn=<AddBackward0>)\n",
      " epoch:  750  loss:  tensor(0.0101, device='cuda:0', grad_fn=<AddBackward0>)\n",
      " epoch:  1000  loss:  tensor(0.0098, device='cuda:0', grad_fn=<AddBackward0>)\n",
      " epoch:  1250  loss:  tensor(0.0096, device='cuda:0', grad_fn=<AddBackward0>)\n",
      " epoch:  1500  loss:  tensor(0.0095, device='cuda:0', grad_fn=<AddBackward0>)\n",
      " epoch:  1750  loss:  tensor(0.0094, device='cuda:0', grad_fn=<AddBackward0>)\n",
      " epoch:  1999  loss:  tensor(0.0093, device='cuda:0', grad_fn=<AddBackward0>)\n"
     ]
    }
   ],
   "source": [
    "# seed += 1\n",
    "print('seed:',seed)\n",
    "set_global_seed(seed)\n",
    "epochs = 2000\n",
    "adam_decay_rate = 0 # adam weight decay\n",
    "lr = 1e-3 # learning rate\n",
    "lr_decay_rate = 0.5 # learning rate decay\n",
    "lr_decay_step = 500 # learning rate decay step size\n",
    "model_prob_l2 = BasicNet([64])\n",
    "model_value_l2 = BasicNet([64])\n",
    "k2 = 10\n",
    "k3 = 15\n",
    "same_vecs = False\n",
    "single_model = False # if true, only model_prob will be learned. \n",
    "softmax_on = True # if true, turn on the softmax in the function top_k during sparsfication\n",
    "problem = RotatedLaplacian(31,[k2,k3],list_eps, list_theta,'fixed xi',same_vecs=same_vecs)\n",
    "\n",
    "model_prob_l2,model_value_l2 = problem.train(problem.A2_train, \n",
    "                                             problem.s2_train,\n",
    "                                             problem.eig_vec2_train,\n",
    "                                             model_prob_l2,\n",
    "                                             model_value_l2,\n",
    "                                             epochs,\n",
    "                                             adam_decay_rate,\n",
    "                                             lr,\n",
    "                                             lr_decay_rate,\n",
    "                                             lr_decay_step,\n",
    "                                             device,\n",
    "                                             single_model=single_model,\n",
    "                                             softmax_on = softmax_on,\n",
    "                                             verbose = True)"
   ]
  },
  {
   "cell_type": "code",
   "execution_count": 11,
   "metadata": {},
   "outputs": [
    {
     "data": {
      "text/plain": [
       "array([[-0.0747,  0.0207,  0.    ,  0.051 ,  0.    ,  0.    ,  0.    ,\n",
       "         0.    ,  0.    ],\n",
       "       [ 0.0207, -0.0747,  0.0207,  0.    ,  0.051 ,  0.    ,  0.    ,\n",
       "         0.    ,  0.    ],\n",
       "       [ 0.    ,  0.0207, -0.0747,  0.    ,  0.    ,  0.051 ,  0.    ,\n",
       "         0.    ,  0.    ],\n",
       "       [ 0.051 ,  0.    ,  0.    , -0.0747,  0.0207,  0.    ,  0.051 ,\n",
       "         0.    ,  0.    ],\n",
       "       [ 0.    ,  0.051 ,  0.    ,  0.0207, -0.0747,  0.0207,  0.    ,\n",
       "         0.051 ,  0.    ],\n",
       "       [ 0.    ,  0.    ,  0.051 ,  0.    ,  0.0207, -0.0747,  0.    ,\n",
       "         0.    ,  0.051 ],\n",
       "       [ 0.    ,  0.    ,  0.    ,  0.051 ,  0.    ,  0.    , -0.0747,\n",
       "         0.0207,  0.    ],\n",
       "       [ 0.    ,  0.    ,  0.    ,  0.    ,  0.051 ,  0.    ,  0.0207,\n",
       "        -0.0747,  0.0207],\n",
       "       [ 0.    ,  0.    ,  0.    ,  0.    ,  0.    ,  0.051 ,  0.    ,\n",
       "         0.0207, -0.0747]])"
      ]
     },
     "execution_count": 11,
     "metadata": {},
     "output_type": "execute_result"
    }
   ],
   "source": [
    "stncl = np.array([[ 0,  0.0510,  0],\n",
    "          [ 0.0207, -0.0747, 0.0207],\n",
    "          [ 0,  0.0510, 0]])\n",
    "pyamg.gallery.stencil_grid(stncl,(3,3)).toarray()"
   ]
  },
  {
   "cell_type": "code",
   "execution_count": null,
   "metadata": {},
   "outputs": [],
   "source": []
  },
  {
   "cell_type": "code",
   "execution_count": null,
   "metadata": {},
   "outputs": [],
   "source": []
  }
 ],
 "metadata": {
  "colab": {
   "collapsed_sections": [],
   "name": "Copy of Thesis Diffusion.ipynb",
   "provenance": []
  },
  "interpreter": {
   "hash": "aee8b7b246df8f9039afb4144a1f6fd8d2ca17a180786b69acc140d282b71a49"
  },
  "kernelspec": {
   "display_name": "Python 3 (ipykernel)",
   "language": "python",
   "name": "python3"
  },
  "language_info": {
   "codemirror_mode": {
    "name": "ipython",
    "version": 3
   },
   "file_extension": ".py",
   "mimetype": "text/x-python",
   "name": "python",
   "nbconvert_exporter": "python",
   "pygments_lexer": "ipython3",
   "version": "3.8.10"
  },
  "nteract": {
   "version": "0.28.0"
  }
 },
 "nbformat": 4,
 "nbformat_minor": 4
}
