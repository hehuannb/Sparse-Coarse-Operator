{
 "cells": [
  {
   "cell_type": "code",
   "execution_count": 1,
   "id": "6f01e95d",
   "metadata": {},
   "outputs": [
    {
     "name": "stdout",
     "output_type": "stream",
     "text": [
      "/local/scratch/kchan76/sparse-coarse-operator/tests/laplacian/fixed-xi\n"
     ]
    },
    {
     "name": "stderr",
     "output_type": "stream",
     "text": [
      "/local/scratch/kchan76/sparse-stencil-learning/src/pyamg2/lib/python3.8/site-packages/tqdm/auto.py:22: TqdmWarning: IProgress not found. Please update jupyter and ipywidgets. See https://ipywidgets.readthedocs.io/en/stable/user_install.html\n",
      "  from .autonotebook import tqdm as notebook_tqdm\n"
     ]
    },
    {
     "name": "stdout",
     "output_type": "stream",
     "text": [
      "device: cuda:1\n"
     ]
    }
   ],
   "source": [
    "import os\n",
    "print(os.getcwd())\n",
    "import sys\n",
    "sys.path.append('/local/scratch/kchan76/sparse-coarse-operator/')\n",
    "from libs.pde import *\n",
    "from libs.rotated_laplacian import RotatedLaplacian\n",
    "from libs.models import BasicNet, MultiHeadedAttention\n",
    "from libs.utils import *\n",
    "import torch\n",
    "\n",
    "device = torch.device('cuda:1' if torch.cuda.is_available() else 'cpu')\n",
    "print('device:', device)"
   ]
  },
  {
   "cell_type": "code",
   "execution_count": 2,
   "id": "565291d0",
   "metadata": {},
   "outputs": [],
   "source": [
    "# Initialization\n",
    "list_eps = [1/100]\n",
    "low_pi = 3\n",
    "high_pi = 4\n",
    "theta_low = np.pi/12*low_pi\n",
    "theta_high = np.pi/12*high_pi\n",
    "# 10 points: xi = 300, 6-7\n",
    "npts = 5\n",
    "list_theta = np.linspace(theta_low, theta_high, npts)"
   ]
  },
  {
   "cell_type": "code",
   "execution_count": 3,
   "id": "4e916073",
   "metadata": {},
   "outputs": [],
   "source": [
    "train_grid_size = 31\n",
    "'''\n",
    "k for 2-3    3-4    6-7\n",
    "100   10,10  15,15  30,15                  \n",
    "200   19,15  19,15  20,15                \n",
    "300   15,15  15,15  30,15     \n",
    "400   20,15  20,15  20,15                 \n",
    "'''\n",
    "k2 = 15\n",
    "k3 = 15\n",
    "same_vecs = False\n",
    "PDE = RotatedLaplacian(train_grid_size,[k2,k3],list_eps, list_theta,'fixed xi',same_vecs=same_vecs)"
   ]
  },
  {
   "cell_type": "code",
   "execution_count": 4,
   "id": "a07c54e0",
   "metadata": {},
   "outputs": [],
   "source": [
    "# Load Model\n",
    "MODEL_DIR = f\"./models/laplacian/fixed-xi/xi-{int(1/list_eps[0])}/theta-{low_pi}pi\\\\12-{high_pi}pi\\\\12/\"\n",
    "model_prob_l2=torch.load(MODEL_DIR+\"level2_prob.pt\")\n",
    "model_value_l2=torch.load(MODEL_DIR+\"level2_value.pt\")\n",
    "model_prob_l3=torch.load(MODEL_DIR+\"level3_prob.pt\")\n",
    "model_value_l3 = torch.load(MODEL_DIR+\"level3_value.pt\")"
   ]
  },
  {
   "cell_type": "code",
   "execution_count": 5,
   "id": "054036fc",
   "metadata": {},
   "outputs": [],
   "source": [
    "# xi100 = {2:[[],[]],3:[[],[]],6:[[],[]]}\n",
    "# xi200 = {2:[[],[]],3:[[],[]],6:[[],[]]}\n",
    "# xi300 = {2:[[],[]],3:[[],[]],6:[[],[]]}\n",
    "# xi400 = {2:[[],[]],3:[[],[]],6:[[],[]]}"
   ]
  },
  {
   "cell_type": "code",
   "execution_count": 7,
   "id": "353e81a8",
   "metadata": {},
   "outputs": [
    {
     "name": "stdout",
     "output_type": "stream",
     "text": [
      "test seed: 14\n",
      "size: 63\n",
      "standard stencil iter:    88.0   standard stencil time:   0.15375022888183593\n",
      "learned stencil iter:    83.1   learned stencil time:   0.2644761800765991\n",
      "size: 95\n",
      "standard stencil iter:    93.0   standard stencil time:   0.2366471529006958\n",
      "learned stencil iter:    92.8   learned stencil time:   0.3611448287963867\n",
      "size: 127\n",
      "standard stencil iter:    97.3   standard stencil time:   1.0381465911865235\n",
      "learned stencil iter:    100.6   learned stencil time:   1.4116539239883423\n",
      "size: 191\n",
      "standard stencil iter:    99.0   standard stencil time:   1.3789179801940918\n",
      "learned stencil iter:    107.2   learned stencil time:   1.9654626369476318\n",
      "size: 255\n"
     ]
    },
    {
     "ename": "KeyboardInterrupt",
     "evalue": "",
     "output_type": "error",
     "traceback": [
      "\u001b[0;31m---------------------------------------------------------------------------\u001b[0m",
      "\u001b[0;31mKeyboardInterrupt\u001b[0m                         Traceback (most recent call last)",
      "Cell \u001b[0;32mIn [7], line 29\u001b[0m\n\u001b[1;32m     27\u001b[0m \u001b[38;5;28mprint\u001b[39m(\u001b[38;5;124m'\u001b[39m\u001b[38;5;124msize:\u001b[39m\u001b[38;5;124m'\u001b[39m,test_grid_size)\n\u001b[1;32m     28\u001b[0m set_global_seed(test_seed)\n\u001b[0;32m---> 29\u001b[0m num_iter_standard, num_iter_learning, thetaList, _, _ \u001b[38;5;241m=\u001b[39m \u001b[43mPDE\u001b[49m\u001b[38;5;241;43m.\u001b[39;49m\u001b[43mtest_model\u001b[49m\u001b[43m(\u001b[49m\u001b[43mnum_test\u001b[49m\u001b[43m,\u001b[49m\n\u001b[1;32m     30\u001b[0m \u001b[43m                                                        \u001b[49m\u001b[43mmodels\u001b[49m\u001b[43m,\u001b[49m\n\u001b[1;32m     31\u001b[0m \u001b[43m                                                        \u001b[49m\u001b[43mtest_grid_size\u001b[49m\u001b[43m,\u001b[49m\n\u001b[1;32m     32\u001b[0m \u001b[43m                                                        \u001b[49m\u001b[43mmax_levels\u001b[49m\u001b[43m,\u001b[49m\n\u001b[1;32m     33\u001b[0m \u001b[43m                                                        \u001b[49m\u001b[43mepsilon\u001b[49m\u001b[43m,\u001b[49m\n\u001b[1;32m     34\u001b[0m \u001b[43m                                                        \u001b[49m\u001b[43mtheta\u001b[49m\u001b[43m,\u001b[49m\n\u001b[1;32m     35\u001b[0m \u001b[43m                                                        \u001b[49m\u001b[43mdevice\u001b[49m\u001b[43m,\u001b[49m\n\u001b[1;32m     36\u001b[0m \u001b[43m                                                        \u001b[49m\u001b[43mrandom_test\u001b[49m\u001b[38;5;241;43m=\u001b[39;49m\u001b[43mrandom_test\u001b[49m\u001b[43m,\u001b[49m\n\u001b[1;32m     37\u001b[0m \u001b[43m                                                        \u001b[49m\u001b[43msingle_model\u001b[49m\u001b[38;5;241;43m=\u001b[39;49m\u001b[43m \u001b[49m\u001b[38;5;28;43;01mFalse\u001b[39;49;00m\u001b[43m,\u001b[49m\n\u001b[1;32m     38\u001b[0m \u001b[43m                                                        \u001b[49m\u001b[43msoftmax_on\u001b[49m\u001b[43m \u001b[49m\u001b[38;5;241;43m=\u001b[39;49m\u001b[43m \u001b[49m\u001b[43msoftmax_topk\u001b[49m\u001b[43m,\u001b[49m\n\u001b[1;32m     39\u001b[0m \u001b[43m                                                        \u001b[49m\u001b[43mverbose\u001b[49m\u001b[43m \u001b[49m\u001b[38;5;241;43m=\u001b[39;49m\u001b[43m \u001b[49m\u001b[38;5;28;43;01mTrue\u001b[39;49;00m\u001b[43m,\u001b[49m\n\u001b[1;32m     40\u001b[0m \u001b[43m                                                        \u001b[49m\u001b[43mdropout_on\u001b[49m\u001b[43m \u001b[49m\u001b[38;5;241;43m=\u001b[39;49m\u001b[43m \u001b[49m\u001b[38;5;28;43;01mFalse\u001b[39;49;00m\u001b[43m)\u001b[49m\n\u001b[1;32m     41\u001b[0m xi100[low_pi][\u001b[38;5;241m0\u001b[39m]\u001b[38;5;241m.\u001b[39mappend(np\u001b[38;5;241m.\u001b[39mmean(num_iter_standard))\n\u001b[1;32m     42\u001b[0m xi100[low_pi][\u001b[38;5;241m1\u001b[39m]\u001b[38;5;241m.\u001b[39mappend(np\u001b[38;5;241m.\u001b[39mmean(num_iter_learning))\n",
      "File \u001b[0;32m/local/scratch/kchan76/sparse-coarse-operator/libs/rotated_laplacian.py:242\u001b[0m, in \u001b[0;36mRotatedLaplacian.test_model\u001b[0;34m(self, num_test, models, test_grid_size, max_levels, epsilon, theta, device, dropout_on, random_test, single_model, softmax_on, top_accel, verbose)\u001b[0m\n\u001b[1;32m    232\u001b[0m solver_standard \u001b[38;5;241m=\u001b[39m \u001b[38;5;28mself\u001b[39m\u001b[38;5;241m.\u001b[39mgeometric_solver(A,\n\u001b[1;32m    233\u001b[0m                                         \u001b[38;5;124m'\u001b[39m\u001b[38;5;124mstandard\u001b[39m\u001b[38;5;124m'\u001b[39m,\n\u001b[1;32m    234\u001b[0m                                         models,\n\u001b[0;32m   (...)\u001b[0m\n\u001b[1;32m    239\u001b[0m                                         softmax_on\u001b[38;5;241m=\u001b[39msoftmax_on,\n\u001b[1;32m    240\u001b[0m                                         coarse_solver\u001b[38;5;241m=\u001b[39m\u001b[38;5;124m'\u001b[39m\u001b[38;5;124msplu\u001b[39m\u001b[38;5;124m'\u001b[39m)\n\u001b[1;32m    241\u001b[0m \u001b[38;5;66;03m# assert 0 == 1 \u001b[39;00m\n\u001b[0;32m--> 242\u001b[0m solver_non_galerkin \u001b[38;5;241m=\u001b[39m \u001b[38;5;28;43mself\u001b[39;49m\u001b[38;5;241;43m.\u001b[39;49m\u001b[43mgeometric_solver\u001b[49m\u001b[43m(\u001b[49m\u001b[43mA\u001b[49m\u001b[43m,\u001b[49m\n\u001b[1;32m    243\u001b[0m \u001b[43m                                            \u001b[49m\u001b[38;5;124;43m'\u001b[39;49m\u001b[38;5;124;43mlearning\u001b[39;49m\u001b[38;5;124;43m'\u001b[39;49m\u001b[43m,\u001b[49m\n\u001b[1;32m    244\u001b[0m \u001b[43m                                            \u001b[49m\u001b[43mmodels\u001b[49m\u001b[43m,\u001b[49m\n\u001b[1;32m    245\u001b[0m \u001b[43m                                            \u001b[49m\u001b[43mtest_grid_size\u001b[49m\u001b[43m,\u001b[49m\n\u001b[1;32m    246\u001b[0m \u001b[43m                                            \u001b[49m\u001b[43mdropout_on\u001b[49m\u001b[38;5;241;43m=\u001b[39;49m\u001b[43mdropout_on\u001b[49m\u001b[43m,\u001b[49m\n\u001b[1;32m    247\u001b[0m \u001b[43m                                            \u001b[49m\u001b[43mmax_levels\u001b[49m\u001b[38;5;241;43m=\u001b[39;49m\u001b[43mmax_levels\u001b[49m\u001b[43m,\u001b[49m\n\u001b[1;32m    248\u001b[0m \u001b[43m                                            \u001b[49m\u001b[43mcoarse_solver\u001b[49m\u001b[38;5;241;43m=\u001b[39;49m\u001b[38;5;124;43m'\u001b[39;49m\u001b[38;5;124;43msplu\u001b[39;49m\u001b[38;5;124;43m'\u001b[39;49m\u001b[43m,\u001b[49m\n\u001b[1;32m    249\u001b[0m \u001b[43m                                            \u001b[49m\u001b[43msingle_model\u001b[49m\u001b[43m \u001b[49m\u001b[38;5;241;43m=\u001b[39;49m\u001b[43m \u001b[49m\u001b[43msingle_model\u001b[49m\u001b[43m,\u001b[49m\n\u001b[1;32m    250\u001b[0m \u001b[43m                                            \u001b[49m\u001b[43msoftmax_on\u001b[49m\u001b[38;5;241;43m=\u001b[39;49m\u001b[43msoftmax_on\u001b[49m\u001b[43m,\u001b[49m\n\u001b[1;32m    251\u001b[0m \u001b[43m                                            \u001b[49m\u001b[43mdevice\u001b[49m\u001b[38;5;241;43m=\u001b[39;49m\u001b[43mdevice\u001b[49m\u001b[43m)\u001b[49m\n\u001b[1;32m    253\u001b[0m x0 \u001b[38;5;241m=\u001b[39m np\u001b[38;5;241m.\u001b[39mones((A\u001b[38;5;241m.\u001b[39mshape[\u001b[38;5;241m0\u001b[39m],\u001b[38;5;241m1\u001b[39m))\n\u001b[1;32m    254\u001b[0m b \u001b[38;5;241m=\u001b[39m np\u001b[38;5;241m.\u001b[39mrandom\u001b[38;5;241m.\u001b[39mrand(A\u001b[38;5;241m.\u001b[39mshape[\u001b[38;5;241m0\u001b[39m],\u001b[38;5;241m1\u001b[39m)\n",
      "File \u001b[0;32m/local/scratch/kchan76/sparse-coarse-operator/libs/rotated_laplacian.py:393\u001b[0m, in \u001b[0;36mRotatedLaplacian.geometric_solver\u001b[0;34m(self, A, option1, models, n, presmoother, postsmoother, max_levels, max_coarse, dropout_on, coarse_solver, device, single_model, softmax_on, **kwargs)\u001b[0m\n\u001b[1;32m    390\u001b[0m levels[\u001b[38;5;241m-\u001b[39m\u001b[38;5;241m1\u001b[39m]\u001b[38;5;241m.\u001b[39mn \u001b[38;5;241m=\u001b[39m n\n\u001b[1;32m    392\u001b[0m \u001b[38;5;28;01mwhile\u001b[39;00m \u001b[38;5;28mlen\u001b[39m(levels) \u001b[38;5;241m<\u001b[39m max_levels \u001b[38;5;129;01mand\u001b[39;00m levels[\u001b[38;5;241m-\u001b[39m\u001b[38;5;241m1\u001b[39m]\u001b[38;5;241m.\u001b[39mA\u001b[38;5;241m.\u001b[39mshape[\u001b[38;5;241m0\u001b[39m] \u001b[38;5;241m>\u001b[39m max_coarse:\n\u001b[0;32m--> 393\u001b[0m     \u001b[38;5;28;43mself\u001b[39;49m\u001b[38;5;241;43m.\u001b[39;49m\u001b[43mextend_hierarchy\u001b[49m\u001b[43m(\u001b[49m\u001b[43mlevels\u001b[49m\u001b[43m,\u001b[49m\u001b[43moption1\u001b[49m\u001b[43m,\u001b[49m\u001b[43mmodels\u001b[49m\u001b[43m,\u001b[49m\u001b[43mdevice\u001b[49m\u001b[43m,\u001b[49m\u001b[43m \u001b[49m\u001b[43msingle_model\u001b[49m\u001b[43m,\u001b[49m\u001b[43m \u001b[49m\u001b[43msoftmax_on\u001b[49m\u001b[43m,\u001b[49m\u001b[43m \u001b[49m\u001b[43mdropout_on\u001b[49m\u001b[38;5;241;43m=\u001b[39;49m\u001b[43mdropout_on\u001b[49m\u001b[43m)\u001b[49m\n\u001b[1;32m    395\u001b[0m ml \u001b[38;5;241m=\u001b[39m multilevel_solver(levels, coarse_solver\u001b[38;5;241m=\u001b[39mcoarse_solver)\n\u001b[1;32m    396\u001b[0m change_smoothers(ml, presmoother, postsmoother)\n",
      "File \u001b[0;32m/local/scratch/kchan76/sparse-coarse-operator/libs/rotated_laplacian.py:403\u001b[0m, in \u001b[0;36mRotatedLaplacian.extend_hierarchy\u001b[0;34m(self, levels, option1, models, device, single_model, softmax_on, dropout_on)\u001b[0m\n\u001b[1;32m    401\u001b[0m A \u001b[38;5;241m=\u001b[39m copy\u001b[38;5;241m.\u001b[39mdeepcopy(levels[\u001b[38;5;241m-\u001b[39m\u001b[38;5;241m1\u001b[39m]\u001b[38;5;241m.\u001b[39mAg)\n\u001b[1;32m    402\u001b[0m n \u001b[38;5;241m=\u001b[39m levels[\u001b[38;5;241m-\u001b[39m\u001b[38;5;241m1\u001b[39m]\u001b[38;5;241m.\u001b[39mn\n\u001b[0;32m--> 403\u001b[0m R \u001b[38;5;241m=\u001b[39m \u001b[38;5;28;43mself\u001b[39;49m\u001b[38;5;241;43m.\u001b[39;49m\u001b[43mget_prolongation\u001b[49m\u001b[43m(\u001b[49m\u001b[43mn\u001b[49m\u001b[43m)\u001b[49m\n\u001b[1;32m    404\u001b[0m P \u001b[38;5;241m=\u001b[39m R\u001b[38;5;241m.\u001b[39mT\u001b[38;5;241m*\u001b[39m\u001b[38;5;241m4\u001b[39m\n\u001b[1;32m    405\u001b[0m levels[\u001b[38;5;241m-\u001b[39m\u001b[38;5;241m1\u001b[39m]\u001b[38;5;241m.\u001b[39mP \u001b[38;5;241m=\u001b[39m P  \u001b[38;5;66;03m# prolongation operator\u001b[39;00m\n",
      "File \u001b[0;32m/local/scratch/kchan76/sparse-coarse-operator/libs/rotated_laplacian.py:351\u001b[0m, in \u001b[0;36mRotatedLaplacian.get_prolongation\u001b[0;34m(self, grid_size)\u001b[0m\n\u001b[1;32m    349\u001b[0m     \u001b[38;5;28;01mfor\u001b[39;00m j \u001b[38;5;129;01min\u001b[39;00m \u001b[38;5;28mrange\u001b[39m(grid_size\u001b[38;5;241m/\u001b[39m\u001b[38;5;241m/\u001b[39m\u001b[38;5;241m2\u001b[39m):\n\u001b[1;32m    350\u001b[0m         P_stencils[i,j,:,:]\u001b[38;5;241m=\u001b[39mres_stencil\n\u001b[0;32m--> 351\u001b[0m \u001b[38;5;28;01mreturn\u001b[39;00m \u001b[43mcompute_p2_old\u001b[49m\u001b[43m(\u001b[49m\u001b[43mP_stencils\u001b[49m\u001b[43m,\u001b[49m\u001b[43m \u001b[49m\u001b[43mgrid_size\u001b[49m\u001b[43m)\u001b[49m\u001b[38;5;241m.\u001b[39mastype(np\u001b[38;5;241m.\u001b[39mdouble)\n",
      "File \u001b[0;32m/local/scratch/kchan76/sparse-coarse-operator/libs/utils.py:291\u001b[0m, in \u001b[0;36mcompute_p2_old\u001b[0;34m(P_stencil, grid_size)\u001b[0m\n\u001b[1;32m    290\u001b[0m \u001b[38;5;28;01mdef\u001b[39;00m \u001b[38;5;21mcompute_p2_old\u001b[39m(P_stencil, grid_size):\n\u001b[0;32m--> 291\u001b[0m     indexes \u001b[38;5;241m=\u001b[39m \u001b[43mget_p_matrix_indices_one_old\u001b[49m\u001b[43m(\u001b[49m\u001b[43mgrid_size\u001b[49m\u001b[43m)\u001b[49m\n\u001b[1;32m    292\u001b[0m     P \u001b[38;5;241m=\u001b[39m sp\u001b[38;5;241m.\u001b[39msparse\u001b[38;5;241m.\u001b[39mcsr_matrix(arg1\u001b[38;5;241m=\u001b[39m(P_stencil\u001b[38;5;241m.\u001b[39mreshape(\u001b[38;5;241m-\u001b[39m\u001b[38;5;241m1\u001b[39m), (indexes[:, \u001b[38;5;241m1\u001b[39m], indexes[:, \u001b[38;5;241m0\u001b[39m])),\n\u001b[1;32m    293\u001b[0m                              shape\u001b[38;5;241m=\u001b[39m((grid_size\u001b[38;5;241m/\u001b[39m\u001b[38;5;241m/\u001b[39m\u001b[38;5;241m2\u001b[39m) \u001b[38;5;241m*\u001b[39m\u001b[38;5;241m*\u001b[39m \u001b[38;5;241m2\u001b[39m, (grid_size) \u001b[38;5;241m*\u001b[39m\u001b[38;5;241m*\u001b[39m \u001b[38;5;241m2\u001b[39m))\n\u001b[1;32m    295\u001b[0m     \u001b[38;5;28;01mreturn\u001b[39;00m P\n",
      "File \u001b[0;32m/local/scratch/kchan76/sparse-coarse-operator/libs/utils.py:315\u001b[0m, in \u001b[0;36mget_p_matrix_indices_one_old\u001b[0;34m(grid_size)\u001b[0m\n\u001b[1;32m    313\u001b[0m             \u001b[38;5;28;01mfor\u001b[39;00m m \u001b[38;5;129;01min\u001b[39;00m \u001b[38;5;28mrange\u001b[39m(\u001b[38;5;241m3\u001b[39m):\n\u001b[1;32m    314\u001b[0m                 I \u001b[38;5;241m=\u001b[39m \u001b[38;5;28mint\u001b[39m(K[i, j, k, m])\n\u001b[0;32m--> 315\u001b[0m                 \u001b[43mindices\u001b[49m\u001b[38;5;241;43m.\u001b[39;49m\u001b[43mappend\u001b[49m([I, J])\n\u001b[1;32m    317\u001b[0m \u001b[38;5;28;01mreturn\u001b[39;00m np\u001b[38;5;241m.\u001b[39marray(indices)\n",
      "\u001b[0;31mKeyboardInterrupt\u001b[0m: "
     ]
    }
   ],
   "source": [
    "# generate additional data points\n",
    "'''\n",
    "seed for  2-3.   3-4.   6-7 (3-level)\n",
    "100.      65(20) 14.    49\n",
    "200       13     15     30(doesn't work well here, use xi200.ipynb)\n",
    "300       4      2      17\n",
    "400       27     1(20)  10\n",
    "'''\n",
    "test_seed = 14\n",
    "set_global_seed(test_seed)\n",
    "print('test seed:', test_seed)\n",
    "sizes = [63,95,127,191,255,383,511]\n",
    "num_test = 10\n",
    "models = {}\n",
    "models['level2'] = model_prob_l2, model_value_l2\n",
    "models['level3'] = model_prob_l3, model_value_l3\n",
    "max_levels = 3\n",
    "epsilon = tuple(list_eps)\n",
    "theta = (theta_low, theta_high)\n",
    "random_test = True\n",
    "'''\n",
    "softmax false for : xi-300, 6-7; xi-200, 2-3; xi-200, 3-4\n",
    "'''\n",
    "softmax_topk = True\n",
    "\n",
    "for test_grid_size in sizes:\n",
    "    print('size:',test_grid_size)\n",
    "    set_global_seed(test_seed)\n",
    "    num_iter_standard, num_iter_learning, thetaList, _, _ = PDE.test_model(num_test,\n",
    "                                                            models,\n",
    "                                                            test_grid_size,\n",
    "                                                            max_levels,\n",
    "                                                            epsilon,\n",
    "                                                            theta,\n",
    "                                                            device,\n",
    "                                                            random_test=random_test,\n",
    "                                                            single_model= False,\n",
    "                                                            softmax_on = softmax_topk,\n",
    "                                                            verbose = True,\n",
    "                                                            dropout_on = False)\n",
    "    xi100[low_pi][0].append(np.mean(num_iter_standard))\n",
    "    xi100[low_pi][1].append(np.mean(num_iter_learning))"
   ]
  },
  {
   "cell_type": "code",
   "execution_count": 74,
   "id": "bab95b7d",
   "metadata": {},
   "outputs": [
    {
     "data": {
      "text/plain": [
       "{2: [[79.15, 85.8, 88.95, 91.1, 91.85, 93.55, 93.9],\n",
       "  [67.7, 75.15, 79.75, 83.8, 85.8, 87.4, 88.55]],\n",
       " 3: [[88.0, 93.0, 97.3, 99.0, 101.1, 102.0, 102.8],\n",
       "  [78.3, 84.1, 89.3, 92.8, 95.3, 97.1, 101.9]],\n",
       " 6: [[119.4, 124.0, 124.9, 125.6, 126.6, 126.8, 126.9],\n",
       "  [116.6, 121.4, 123.2, 124.1, 126.1, 128.3, 130.2]]}"
      ]
     },
     "execution_count": 74,
     "metadata": {},
     "output_type": "execute_result"
    }
   ],
   "source": [
    "xi100"
   ]
  },
  {
   "cell_type": "code",
   "execution_count": 50,
   "id": "dc934ffc",
   "metadata": {},
   "outputs": [
    {
     "data": {
      "text/plain": [
       "{2: [[146.2, 164.6, 174.6, 182.9, 186.4, 190.7, 191.7],\n",
       "  [126.6, 145.0, 155.1, 164.2, 169.3, 174.1, 175.7]],\n",
       " 3: [[150.8, 169.1, 177.5, 188.8, 192.4, 195.8, 196.6],\n",
       "  [129.6, 146.8, 157.5, 169.3, 172.7, 177.7, 179.3]],\n",
       " 6: [[182.1, 192.4, 198.1, 200.5, 202.4, 202.4, 203.1],\n",
       "  [178.2, 188.7, 194.8, 199.8, 203.0, 205.3, 213.4]]}"
      ]
     },
     "execution_count": 50,
     "metadata": {},
     "output_type": "execute_result"
    }
   ],
   "source": [
    "xi200"
   ]
  },
  {
   "cell_type": "code",
   "execution_count": 213,
   "id": "e30e00ec",
   "metadata": {},
   "outputs": [
    {
     "data": {
      "text/plain": [
       "{2: [[211.2, 265.0, 285.6, 308.4, 323.6, 333.9],\n",
       "  [184.0, 232.4, 258.2, 283.7, 303.8, 317.3]],\n",
       " 3: [[212.05, 263.4, 289.1, 311.85, 322.25, 332.05, 336.7],\n",
       "  [185.0, 231.4, 260.8, 289.3, 305.05, 323.7, 340.15]],\n",
       " 6: [[344.2, 393.9, 414.2, 429.7, 434.3, 437.3, 438.2],\n",
       "  [338.9, 389.0, 410.9, 431.5, 440.1, 446.8, 452.6]]}"
      ]
     },
     "execution_count": 213,
     "metadata": {},
     "output_type": "execute_result"
    }
   ],
   "source": [
    "xi400"
   ]
  },
  {
   "cell_type": "code",
   "execution_count": 174,
   "id": "7851306c",
   "metadata": {},
   "outputs": [
    {
     "data": {
      "text/plain": [
       "{2: [[169.1, 202.6, 221.1, 230.9, 238.5, 246.2],\n",
       "  [148.2, 181.7, 200.9, 216.9, 228.6, 242.1]],\n",
       " 3: [[183.7, 220.1, 238.5, 256.9, 262.7, 267.0],\n",
       "  [145.3, 173.4, 189.4, 209.1, 218.2, 230.0]],\n",
       " 6: [[281.7, 314.4, 326.8, 337.5, 340.8, 342.2],\n",
       "  [275.3, 306.7, 317.1, 330.3, 340.4, 348.1]]}"
      ]
     },
     "execution_count": 174,
     "metadata": {},
     "output_type": "execute_result"
    }
   ],
   "source": [
    "xi300"
   ]
  },
  {
   "cell_type": "code",
   "execution_count": 67,
   "id": "70028e6a",
   "metadata": {},
   "outputs": [],
   "source": [
    "# xi100[3][0].append(102.8)\n",
    "# xi100[3][1].append(101.9)"
   ]
  },
  {
   "cell_type": "code",
   "execution_count": null,
   "id": "538fb769",
   "metadata": {},
   "outputs": [],
   "source": [
    "# list_eps = [1/100]\n",
    "# low_pi = 2\n",
    "# high_pi = 3\n",
    "\n",
    "import os\n",
    "MODEL_DIR = f\"./../../../figs/laplacian/fixed-xi/xi-{int(1/list_eps[0])}/\"\n",
    "if not os.path.isdir(MODEL_DIR):\n",
    "    os.makedirs(MODEL_DIR)"
   ]
  },
  {
   "cell_type": "code",
   "execution_count": null,
   "id": "e8006b7a",
   "metadata": {},
   "outputs": [],
   "source": [
    "import matplotlib.pyplot as plt\n",
    "import numpy as np\n",
    "\n",
    "sizes = [63,95,127,191,255,383,511]\n",
    "Ag = xi100[low_pi][0]\n",
    "Ac = xi100[low_pi][1]\n",
    "title_name = f\"ξ ={int(1/list_eps[0])}, θ in ({low_pi}π/12, {high_pi}π/12)\"\n",
    "\n",
    "fig = plt.figure(dpi=300)\n",
    "plt.plot(sizes,Ag, '--o',color='black', markersize=8, label='Ag',lw=1.5)\n",
    "plt.plot(sizes,Ac, '--*',color='darkorange', markersize=8, label='Ac',lw=1.5)\n",
    "plt.legend()\n",
    "plt.xticks(sizes)\n",
    "plt.xlabel(\"Mesh size\")\n",
    "plt.ylabel(\"Number of iterations\")\n",
    "plt.title(title_name)\n",
    "# file_name = MODEL_DIR + f\"theta-{low_pi}pi\\\\12-{high_pi}pi\\\\12.png\"\n",
    "# plt.savefig(file_name)\n",
    "plt.show()"
   ]
  },
  {
   "cell_type": "code",
   "execution_count": null,
   "id": "7e7ce882",
   "metadata": {},
   "outputs": [],
   "source": []
  }
 ],
 "metadata": {
  "kernelspec": {
   "display_name": "Python 3 (ipykernel)",
   "language": "python",
   "name": "python3"
  },
  "language_info": {
   "codemirror_mode": {
    "name": "ipython",
    "version": 3
   },
   "file_extension": ".py",
   "mimetype": "text/x-python",
   "name": "python",
   "nbconvert_exporter": "python",
   "pygments_lexer": "ipython3",
   "version": "3.8.10"
  }
 },
 "nbformat": 4,
 "nbformat_minor": 5
}
