{
 "cells": [
  {
   "cell_type": "code",
   "execution_count": 1,
   "id": "6f01e95d",
   "metadata": {},
   "outputs": [
    {
     "name": "stdout",
     "output_type": "stream",
     "text": [
      "/local/scratch/kchan76/sparse-coarse-operator/tests/laplacian/fixed-xi\n"
     ]
    },
    {
     "name": "stderr",
     "output_type": "stream",
     "text": [
      "/local/scratch/kchan76/sparse-stencil-learning/src/pyamg2/lib/python3.8/site-packages/tqdm/auto.py:22: TqdmWarning: IProgress not found. Please update jupyter and ipywidgets. See https://ipywidgets.readthedocs.io/en/stable/user_install.html\n",
      "  from .autonotebook import tqdm as notebook_tqdm\n"
     ]
    },
    {
     "name": "stdout",
     "output_type": "stream",
     "text": [
      "device: cuda:1\n"
     ]
    }
   ],
   "source": [
    "import os\n",
    "print(os.getcwd())\n",
    "import sys\n",
    "sys.path.append('/local/scratch/kchan76/sparse-coarse-operator/')\n",
    "from libs.pde import *\n",
    "from libs.rotated_laplacian import RotatedLaplacian\n",
    "from libs.models import BasicNet, MultiHeadedAttention\n",
    "from libs.utils import *\n",
    "import torch\n",
    "\n",
    "device = torch.device('cuda:1' if torch.cuda.is_available() else 'cpu')\n",
    "print('device:', device)"
   ]
  },
  {
   "cell_type": "code",
   "execution_count": 2,
   "id": "565291d0",
   "metadata": {},
   "outputs": [],
   "source": [
    "# Initialization\n",
    "list_eps = [1/100]\n",
    "low_pi = 6\n",
    "high_pi = 7\n",
    "theta_low = np.pi/12*low_pi\n",
    "theta_high = np.pi/12*high_pi\n",
    "# 10 points: xi = 300, 6-7\n",
    "npts = 5\n",
    "list_theta = np.linspace(theta_low, theta_high, npts)"
   ]
  },
  {
   "cell_type": "code",
   "execution_count": 3,
   "id": "4e916073",
   "metadata": {},
   "outputs": [],
   "source": [
    "train_grid_size = 31\n",
    "'''\n",
    "k for 2-3    3-4    6-7\n",
    "100   10,10  15,15  30,15                  \n",
    "200   19,15  19,15  20,15                \n",
    "300   15,15  15,15  30,15     \n",
    "400   20,15  20,15  20,15                 \n",
    "'''\n",
    "k2 = 30\n",
    "k3 = 15\n",
    "same_vecs = False\n",
    "PDE = RotatedLaplacian(train_grid_size,[k2,k3],list_eps, list_theta,'fixed xi',same_vecs=same_vecs)"
   ]
  },
  {
   "cell_type": "code",
   "execution_count": 4,
   "id": "a07c54e0",
   "metadata": {},
   "outputs": [],
   "source": [
    "# Load Model\n",
    "MODEL_DIR = f\"./models/laplacian/fixed-xi/xi-{int(1/list_eps[0])}/theta-{low_pi}pi\\\\12-{high_pi}pi\\\\12/\"\n",
    "model_prob_l2=torch.load(MODEL_DIR+\"level2_prob.pt\")\n",
    "model_value_l2=torch.load(MODEL_DIR+\"level2_value.pt\")\n",
    "model_prob_l3=torch.load(MODEL_DIR+\"level3_prob.pt\")\n",
    "model_value_l3 = torch.load(MODEL_DIR+\"level3_value.pt\")"
   ]
  },
  {
   "cell_type": "code",
   "execution_count": 5,
   "id": "054036fc",
   "metadata": {},
   "outputs": [],
   "source": [
    "# xi100 = {2:[[],[]],3:[[],[]],6:[[],[]]}\n",
    "# xi200 = {2:[[],[]],3:[[],[]],6:[[],[]]}\n",
    "# xi300 = {2:[[],[]],3:[[],[]],6:[[],[]]}\n",
    "# xi400 = {2:[[],[]],3:[[],[]],6:[[],[]]}"
   ]
  },
  {
   "cell_type": "code",
   "execution_count": null,
   "id": "353e81a8",
   "metadata": {},
   "outputs": [
    {
     "name": "stdout",
     "output_type": "stream",
     "text": [
      "test seed: 49\n",
      "size: 63\n",
      "standard stencil iter:    119.4   standard stencil time:   0.20930945873260498\n",
      "learned stencil iter:    116.7   learned stencil time:   0.40702836513519286\n",
      "size: 95\n",
      "standard stencil iter:    124.0   standard stencil time:   0.38755509853363035\n",
      "learned stencil iter:    121.2   learned stencil time:   0.6784274101257324\n",
      "size: 127\n",
      "standard stencil iter:    124.9   standard stencil time:   1.341459536552429\n",
      "learned stencil iter:    122.8   learned stencil time:   1.7413286685943603\n",
      "size: 191\n",
      "standard stencil iter:    125.6   standard stencil time:   2.1761674165725706\n",
      "learned stencil iter:    124.7   learned stencil time:   2.669110894203186\n",
      "size: 255\n",
      "standard stencil iter:    126.6   standard stencil time:   3.5403953552246095\n",
      "learned stencil iter:    127.2   learned stencil time:   4.6013775110244755\n",
      "size: 383\n"
     ]
    }
   ],
   "source": [
    "# generate additional data points\n",
    "'''\n",
    "seed for  2-3.   3-4.   6-7 (3-level)\n",
    "100.      65(20) 14.    49\n",
    "200       13     15     30(doesn't work well here, use xi200.ipynb)\n",
    "300       4      2      17\n",
    "400       27     1(20)  10\n",
    "'''\n",
    "test_seed = 49\n",
    "set_global_seed(test_seed)\n",
    "print('test seed:', test_seed)\n",
    "sizes = [63,95,127,191,255,383,511]\n",
    "num_test = 10\n",
    "models = {}\n",
    "models['level2'] = model_prob_l2, model_value_l2\n",
    "models['level3'] = model_prob_l3, model_value_l3\n",
    "max_levels = 3\n",
    "epsilon = tuple(list_eps)\n",
    "theta = (theta_low, theta_high)\n",
    "random_test = True\n",
    "'''\n",
    "softmax false for : xi-300, 6-7; xi-200, 2-3; xi-200, 3-4\n",
    "'''\n",
    "softmax_topk = True\n",
    "\n",
    "for test_grid_size in sizes:\n",
    "    print('size:',test_grid_size)\n",
    "    set_global_seed(test_seed)\n",
    "    num_iter_standard, num_iter_learning, thetaList, _, _ = PDE.test_model(num_test,\n",
    "                                                            models,\n",
    "                                                            test_grid_size,\n",
    "                                                            max_levels,\n",
    "                                                            epsilon,\n",
    "                                                            theta,\n",
    "                                                            device,\n",
    "                                                            random_test=random_test,\n",
    "                                                            single_model= False,\n",
    "                                                            softmax_on = softmax_topk,\n",
    "                                                            verbose = True)\n",
    "    xi100[low_pi][0].append(np.mean(num_iter_standard))\n",
    "    xi100[low_pi][1].append(np.mean(num_iter_learning))"
   ]
  },
  {
   "cell_type": "code",
   "execution_count": 74,
   "id": "bab95b7d",
   "metadata": {},
   "outputs": [
    {
     "data": {
      "text/plain": [
       "{2: [[79.15, 85.8, 88.95, 91.1, 91.85, 93.55, 93.9],\n",
       "  [67.7, 75.15, 79.75, 83.8, 85.8, 87.4, 88.55]],\n",
       " 3: [[88.0, 93.0, 97.3, 99.0, 101.1, 102.0, 102.8],\n",
       "  [78.3, 84.1, 89.3, 92.8, 95.3, 97.1, 101.9]],\n",
       " 6: [[119.4, 124.0, 124.9, 125.6, 126.6, 126.8, 126.9],\n",
       "  [116.6, 121.4, 123.2, 124.1, 126.1, 128.3, 130.2]]}"
      ]
     },
     "execution_count": 74,
     "metadata": {},
     "output_type": "execute_result"
    }
   ],
   "source": [
    "xi100"
   ]
  },
  {
   "cell_type": "code",
   "execution_count": 50,
   "id": "dc934ffc",
   "metadata": {},
   "outputs": [
    {
     "data": {
      "text/plain": [
       "{2: [[146.2, 164.6, 174.6, 182.9, 186.4, 190.7, 191.7],\n",
       "  [126.6, 145.0, 155.1, 164.2, 169.3, 174.1, 175.7]],\n",
       " 3: [[150.8, 169.1, 177.5, 188.8, 192.4, 195.8, 196.6],\n",
       "  [129.6, 146.8, 157.5, 169.3, 172.7, 177.7, 179.3]],\n",
       " 6: [[182.1, 192.4, 198.1, 200.5, 202.4, 202.4, 203.1],\n",
       "  [178.2, 188.7, 194.8, 199.8, 203.0, 205.3, 213.4]]}"
      ]
     },
     "execution_count": 50,
     "metadata": {},
     "output_type": "execute_result"
    }
   ],
   "source": [
    "xi200"
   ]
  },
  {
   "cell_type": "code",
   "execution_count": 213,
   "id": "e30e00ec",
   "metadata": {},
   "outputs": [
    {
     "data": {
      "text/plain": [
       "{2: [[211.2, 265.0, 285.6, 308.4, 323.6, 333.9],\n",
       "  [184.0, 232.4, 258.2, 283.7, 303.8, 317.3]],\n",
       " 3: [[212.05, 263.4, 289.1, 311.85, 322.25, 332.05, 336.7],\n",
       "  [185.0, 231.4, 260.8, 289.3, 305.05, 323.7, 340.15]],\n",
       " 6: [[344.2, 393.9, 414.2, 429.7, 434.3, 437.3, 438.2],\n",
       "  [338.9, 389.0, 410.9, 431.5, 440.1, 446.8, 452.6]]}"
      ]
     },
     "execution_count": 213,
     "metadata": {},
     "output_type": "execute_result"
    }
   ],
   "source": [
    "xi400"
   ]
  },
  {
   "cell_type": "code",
   "execution_count": 174,
   "id": "7851306c",
   "metadata": {},
   "outputs": [
    {
     "data": {
      "text/plain": [
       "{2: [[169.1, 202.6, 221.1, 230.9, 238.5, 246.2],\n",
       "  [148.2, 181.7, 200.9, 216.9, 228.6, 242.1]],\n",
       " 3: [[183.7, 220.1, 238.5, 256.9, 262.7, 267.0],\n",
       "  [145.3, 173.4, 189.4, 209.1, 218.2, 230.0]],\n",
       " 6: [[281.7, 314.4, 326.8, 337.5, 340.8, 342.2],\n",
       "  [275.3, 306.7, 317.1, 330.3, 340.4, 348.1]]}"
      ]
     },
     "execution_count": 174,
     "metadata": {},
     "output_type": "execute_result"
    }
   ],
   "source": [
    "xi300"
   ]
  },
  {
   "cell_type": "code",
   "execution_count": 67,
   "id": "70028e6a",
   "metadata": {},
   "outputs": [],
   "source": [
    "# xi100[3][0].append(102.8)\n",
    "# xi100[3][1].append(101.9)"
   ]
  },
  {
   "cell_type": "code",
   "execution_count": null,
   "id": "538fb769",
   "metadata": {},
   "outputs": [],
   "source": [
    "# list_eps = [1/100]\n",
    "# low_pi = 2\n",
    "# high_pi = 3\n",
    "\n",
    "import os\n",
    "MODEL_DIR = f\"./../../../figs/laplacian/fixed-xi/xi-{int(1/list_eps[0])}/\"\n",
    "if not os.path.isdir(MODEL_DIR):\n",
    "    os.makedirs(MODEL_DIR)"
   ]
  },
  {
   "cell_type": "code",
   "execution_count": null,
   "id": "e8006b7a",
   "metadata": {},
   "outputs": [],
   "source": [
    "import matplotlib.pyplot as plt\n",
    "import numpy as np\n",
    "\n",
    "sizes = [63,95,127,191,255,383,511]\n",
    "Ag = xi100[low_pi][0]\n",
    "Ac = xi100[low_pi][1]\n",
    "title_name = f\"ξ ={int(1/list_eps[0])}, θ in ({low_pi}π/12, {high_pi}π/12)\"\n",
    "\n",
    "fig = plt.figure(dpi=300)\n",
    "plt.plot(sizes,Ag, '--o',color='black', markersize=8, label='Ag',lw=1.5)\n",
    "plt.plot(sizes,Ac, '--*',color='darkorange', markersize=8, label='Ac',lw=1.5)\n",
    "plt.legend()\n",
    "plt.xticks(sizes)\n",
    "plt.xlabel(\"Mesh size\")\n",
    "plt.ylabel(\"Number of iterations\")\n",
    "plt.title(title_name)\n",
    "# file_name = MODEL_DIR + f\"theta-{low_pi}pi\\\\12-{high_pi}pi\\\\12.png\"\n",
    "# plt.savefig(file_name)\n",
    "plt.show()"
   ]
  },
  {
   "cell_type": "code",
   "execution_count": null,
   "id": "7e7ce882",
   "metadata": {},
   "outputs": [],
   "source": []
  }
 ],
 "metadata": {
  "kernelspec": {
   "display_name": "Python 3 (ipykernel)",
   "language": "python",
   "name": "python3"
  },
  "language_info": {
   "codemirror_mode": {
    "name": "ipython",
    "version": 3
   },
   "file_extension": ".py",
   "mimetype": "text/x-python",
   "name": "python",
   "nbconvert_exporter": "python",
   "pygments_lexer": "ipython3",
   "version": "3.8.10"
  }
 },
 "nbformat": 4,
 "nbformat_minor": 5
}
